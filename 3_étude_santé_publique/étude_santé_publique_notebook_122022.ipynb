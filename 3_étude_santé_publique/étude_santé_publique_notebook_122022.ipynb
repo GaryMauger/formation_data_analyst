{
 "cells": [
  {
   "cell_type": "markdown",
   "id": "50f7f287",
   "metadata": {},
   "source": [
    "# Projet 4 : Réalisez une étude de santé publique avec Python"
   ]
  },
  {
   "cell_type": "markdown",
   "id": "41044b36",
   "metadata": {},
   "source": [
    "Ce Notebook a été réalisé par **Gary MAUGER** en **janvier 2023**. Il donne un panorama de l’état de la malnutrition dans le monde pour l'année 2017, à partir des données de la FAO."
   ]
  },
  {
   "cell_type": "markdown",
   "id": "4e21c01f",
   "metadata": {},
   "source": [
    "# Sommaire\n",
    "* [1. Importations](#chapitre1)\n",
    "    * [1.1. Importation des différentes librairies](#section_1.1.)\n",
    "    * [1.2. Importation des fichier CSV](#section_1.2.)\n",
    "* [2. Analyse exploratoire des données](#chapitre2)\n",
    "    * [2.1. Dataframe \"population\"](#section_2.1.)\n",
    "    * [2.2. Dataframe \"aide alimentaire\"](#section_2.2.)\n",
    "    * [2.3. Dataframe \"sous-nutrition\"](#section_2.3.)\n",
    "    * [2.4. Dataframe \"dispo alimentaire\"](#section_2.4.)\n",
    "* [3. Analyses pour Marc](#chapitre3)\n",
    "    * [3.1. Requête 1 : Proportion de personnes en état de sous-nutrition en 2017](#section_3.1.)\n",
    "    * [3.2. Requête 2 : Nombre théorique de personnes qui pourraient être nourries](#section_3.2.)\n",
    "        * [3.2.1. À partir de la disponibilité alimentaire mondiale](#section_3.2.1.)\n",
    "        * [3.2.2. À partir de la disponibilité alimentaire des produits végétaux](#section_3.2.2.)\n",
    "    * [3.3. Requête 3 : Utilisation de la disponibilité intérieure](#section_3.3.)\n",
    "        * [3.3.1. Part qui est attribuée à l’alimentation animale](#section_3.3.1.)\n",
    "        * [3.3.2. Part qui est perdue](#section_3.3.2.)\n",
    "        * [3.3.3. Part qui est utilisée pour l'alimentation humaine](#section_3.3.3.)\n",
    "        * [3.3.4. Répartition mondiale de la disponibilité intérieure](#section_3.3.4.)\n",
    "* [4. Analyses pour Mélanie](#chapitre4)\n",
    "    * [4.1. Requête 1 : Pays pour lesquels la proportion de personnes en état de sous-nutrition est la plus forte en 2017](#section_4.1.)\n",
    "    * [4.2. Requête 2 : Pays qui ont le plus bénéficiés d'aides depuis 2013](#section_4.2.)\n",
    "    * [4.3. Requête 3 : Pays qui ont le plus de disponibilité alimentaire par habitant](#section_4.3.)\n",
    "        * [4.3.1. Disponibilité alimentaire en kcal](#section_4.3.1.)\n",
    "        * [4.3.2. Disponibilité de matière grasse en quantité](#section_4.3.2.)\n",
    "        * [4.3.3. Disponibilité de protéines en quantité](#section_4.3.3.)\n",
    "    * [4.4. Requête 4 : Pays qui ont le moins de disponibilité alimentaire par habitant](#section_4.4.)\n",
    "* [5. Analyses pour Julien](#chapitre5)\n",
    "    * [5.1. Dataframe \"cereales\"](#section_5.1.)\n",
    "    * [5.2. Répartition mondiale de l'utilisation des céréales](#section_5.2.)\n",
    "    * [5.3. Quelques chiffres intéressants sur les céréales](#section_5.3.)\n",
    "    * [5.4. Utilisation du Manioc en Thaïlande](#section_5.4.)"
   ]
  },
  {
   "cell_type": "markdown",
   "id": "704e60f0",
   "metadata": {},
   "source": [
    "# 1. Importations des librairies et des données <a class=\"anchor\" id=\"chapitre1\"></a>"
   ]
  },
  {
   "cell_type": "markdown",
   "id": "20b13a68",
   "metadata": {},
   "source": [
    "## 1.1. Importation des différentes librairies <a class=\"anchor\" id=\"section_1.1.\"></a>\n",
    "1- Pandas\n",
    "2- Numpy\n",
    "3- Matpotlib\n",
    "4- Seaborn"
   ]
  },
  {
   "cell_type": "code",
   "execution_count": 1,
   "id": "f3b5ea15",
   "metadata": {},
   "outputs": [],
   "source": [
    "import pandas as pd #analyse de données\n",
    "import numpy as np #calculs numériques\n",
    "import matplotlib.pyplot as plt #graphiques\n",
    "import seaborn as sns #graphiques"
   ]
  },
  {
   "cell_type": "markdown",
   "id": "89ad6226",
   "metadata": {},
   "source": [
    "## 1.2. Importation des fichier CSV <a class=\"anchor\" id=\"section_1.2.\"></a>\n",
    "\n",
    "J'ai quatre fichiers à ma disposition :\n",
    "- *population.csv*\n",
    "- *aide_alimentaire.csv*\n",
    "- *dispo_alimentaire*\n",
    "- *sous_nutrition.csv*"
   ]
  },
  {
   "cell_type": "code",
   "execution_count": 2,
   "id": "1461be6b",
   "metadata": {},
   "outputs": [],
   "source": [
    "# Importation des données : 4 fichiers excel au format .csv\n",
    "\n",
    "df_pop = pd.read_csv(\"population.csv\")\n",
    "df_aide_alim = pd.read_csv(\"aide_alimentaire.csv\")\n",
    "df_sous_nut = pd.read_csv(\"sous_nutrition.csv\")\n",
    "df_dispo_alim = pd.read_csv(\"dispo_alimentaire.csv\")"
   ]
  },
  {
   "cell_type": "markdown",
   "id": "e50535f6",
   "metadata": {},
   "source": [
    "# 2. Analyse exploratoire des données <a class=\"anchor\" id=\"chapitre2\"></a>\n",
    "\n",
    "La fonction .head() nous sert à afficher les premières lignes afin de vérifier notre importation, la fonction .dtypes nous permet de connaître le type de variable de nos données. La fonction .shape permet de connaître le nbr de lignes et de colonnes. On peut aussi utiliser .info et .describe "
   ]
  },
  {
   "cell_type": "markdown",
   "id": "701cbf7d",
   "metadata": {},
   "source": [
    "## 2.1. Dataframe \"population\" <a class=\"anchor\" id=\"section_2.1.\"></a>"
   ]
  },
  {
   "cell_type": "code",
   "execution_count": 3,
   "id": "93cc5367",
   "metadata": {},
   "outputs": [],
   "source": [
    "# Renommage du la colonne Valeur en Population :\n",
    "df_pop.rename(columns = {\"Valeur\":\"Population\"}, inplace = True)"
   ]
  },
  {
   "cell_type": "code",
   "execution_count": 4,
   "id": "676e88e3",
   "metadata": {},
   "outputs": [],
   "source": [
    "# Mise à l'echelle de la population, et modification du type de données de float à int :\n",
    "df_pop[\"Population\"] = df_pop[\"Population\"] * 1000\n",
    "df_pop[\"Population\"] = df_pop[\"Population\"].astype(int)"
   ]
  },
  {
   "cell_type": "code",
   "execution_count": 5,
   "id": "a865c1d9",
   "metadata": {},
   "outputs": [
    {
     "data": {
      "text/plain": [
       "Zone          object\n",
       "Année          int64\n",
       "Population     int64\n",
       "dtype: object"
      ]
     },
     "execution_count": 5,
     "metadata": {},
     "output_type": "execute_result"
    }
   ],
   "source": [
    "df_pop.dtypes"
   ]
  },
  {
   "cell_type": "code",
   "execution_count": 6,
   "id": "4214e692",
   "metadata": {},
   "outputs": [
    {
     "name": "stdout",
     "output_type": "stream",
     "text": [
      "La table population contient 1416 lignes et 3 colonnes.\n"
     ]
    },
    {
     "data": {
      "text/html": [
       "<div>\n",
       "<style scoped>\n",
       "    .dataframe tbody tr th:only-of-type {\n",
       "        vertical-align: middle;\n",
       "    }\n",
       "\n",
       "    .dataframe tbody tr th {\n",
       "        vertical-align: top;\n",
       "    }\n",
       "\n",
       "    .dataframe thead th {\n",
       "        text-align: right;\n",
       "    }\n",
       "</style>\n",
       "<table border=\"1\" class=\"dataframe\">\n",
       "  <thead>\n",
       "    <tr style=\"text-align: right;\">\n",
       "      <th></th>\n",
       "      <th>Zone</th>\n",
       "      <th>Année</th>\n",
       "      <th>Population</th>\n",
       "    </tr>\n",
       "  </thead>\n",
       "  <tbody>\n",
       "    <tr>\n",
       "      <th>0</th>\n",
       "      <td>Afghanistan</td>\n",
       "      <td>2013</td>\n",
       "      <td>32269589</td>\n",
       "    </tr>\n",
       "    <tr>\n",
       "      <th>1</th>\n",
       "      <td>Afghanistan</td>\n",
       "      <td>2014</td>\n",
       "      <td>33370794</td>\n",
       "    </tr>\n",
       "    <tr>\n",
       "      <th>2</th>\n",
       "      <td>Afghanistan</td>\n",
       "      <td>2015</td>\n",
       "      <td>34413603</td>\n",
       "    </tr>\n",
       "    <tr>\n",
       "      <th>3</th>\n",
       "      <td>Afghanistan</td>\n",
       "      <td>2016</td>\n",
       "      <td>35383032</td>\n",
       "    </tr>\n",
       "    <tr>\n",
       "      <th>4</th>\n",
       "      <td>Afghanistan</td>\n",
       "      <td>2017</td>\n",
       "      <td>36296113</td>\n",
       "    </tr>\n",
       "  </tbody>\n",
       "</table>\n",
       "</div>"
      ],
      "text/plain": [
       "          Zone  Année  Population\n",
       "0  Afghanistan   2013    32269589\n",
       "1  Afghanistan   2014    33370794\n",
       "2  Afghanistan   2015    34413603\n",
       "3  Afghanistan   2016    35383032\n",
       "4  Afghanistan   2017    36296113"
      ]
     },
     "execution_count": 6,
     "metadata": {},
     "output_type": "execute_result"
    }
   ],
   "source": [
    "dim_pop = df_pop.shape\n",
    "print(\"La table population contient\", dim_pop[0], \"lignes et\", dim_pop[1], \"colonnes.\")\n",
    "df_pop.head()"
   ]
  },
  {
   "cell_type": "markdown",
   "id": "ce0e6740",
   "metadata": {},
   "source": [
    "## 2.2. Dataframe \"aide alimentaire\" <a class=\"anchor\" id=\"section_2.2.\"></a>"
   ]
  },
  {
   "cell_type": "code",
   "execution_count": 7,
   "id": "878d4adb",
   "metadata": {},
   "outputs": [],
   "source": [
    "# Renommage du la colonne Pays bénéficiaire en Zone :\n",
    "df_aide_alim.rename(columns = {\"Pays bénéficiaire\":\"Zone\"}, inplace = True)"
   ]
  },
  {
   "cell_type": "code",
   "execution_count": 8,
   "id": "51108c2a",
   "metadata": {},
   "outputs": [
    {
     "data": {
      "text/plain": [
       "Zone       object\n",
       "Année       int64\n",
       "Produit    object\n",
       "Valeur      int64\n",
       "dtype: object"
      ]
     },
     "execution_count": 8,
     "metadata": {},
     "output_type": "execute_result"
    }
   ],
   "source": [
    "df_aide_alim.dtypes"
   ]
  },
  {
   "cell_type": "code",
   "execution_count": 9,
   "id": "6c5e3289",
   "metadata": {},
   "outputs": [
    {
     "name": "stdout",
     "output_type": "stream",
     "text": [
      "La taille de la table aide_alimentaire est de (1475, 4)\n"
     ]
    },
    {
     "data": {
      "text/html": [
       "<div>\n",
       "<style scoped>\n",
       "    .dataframe tbody tr th:only-of-type {\n",
       "        vertical-align: middle;\n",
       "    }\n",
       "\n",
       "    .dataframe tbody tr th {\n",
       "        vertical-align: top;\n",
       "    }\n",
       "\n",
       "    .dataframe thead th {\n",
       "        text-align: right;\n",
       "    }\n",
       "</style>\n",
       "<table border=\"1\" class=\"dataframe\">\n",
       "  <thead>\n",
       "    <tr style=\"text-align: right;\">\n",
       "      <th></th>\n",
       "      <th>Zone</th>\n",
       "      <th>Année</th>\n",
       "      <th>Produit</th>\n",
       "      <th>Valeur</th>\n",
       "    </tr>\n",
       "  </thead>\n",
       "  <tbody>\n",
       "    <tr>\n",
       "      <th>0</th>\n",
       "      <td>Afghanistan</td>\n",
       "      <td>2013</td>\n",
       "      <td>Autres non-céréales</td>\n",
       "      <td>682</td>\n",
       "    </tr>\n",
       "    <tr>\n",
       "      <th>1</th>\n",
       "      <td>Afghanistan</td>\n",
       "      <td>2014</td>\n",
       "      <td>Autres non-céréales</td>\n",
       "      <td>335</td>\n",
       "    </tr>\n",
       "    <tr>\n",
       "      <th>2</th>\n",
       "      <td>Afghanistan</td>\n",
       "      <td>2013</td>\n",
       "      <td>Blé et Farin</td>\n",
       "      <td>39224</td>\n",
       "    </tr>\n",
       "    <tr>\n",
       "      <th>3</th>\n",
       "      <td>Afghanistan</td>\n",
       "      <td>2014</td>\n",
       "      <td>Blé et Farin</td>\n",
       "      <td>15160</td>\n",
       "    </tr>\n",
       "    <tr>\n",
       "      <th>4</th>\n",
       "      <td>Afghanistan</td>\n",
       "      <td>2013</td>\n",
       "      <td>Céréales</td>\n",
       "      <td>40504</td>\n",
       "    </tr>\n",
       "  </tbody>\n",
       "</table>\n",
       "</div>"
      ],
      "text/plain": [
       "          Zone  Année              Produit  Valeur\n",
       "0  Afghanistan   2013  Autres non-céréales     682\n",
       "1  Afghanistan   2014  Autres non-céréales     335\n",
       "2  Afghanistan   2013         Blé et Farin   39224\n",
       "3  Afghanistan   2014         Blé et Farin   15160\n",
       "4  Afghanistan   2013             Céréales   40504"
      ]
     },
     "execution_count": 9,
     "metadata": {},
     "output_type": "execute_result"
    }
   ],
   "source": [
    "print(\"La taille de la table aide_alimentaire est de\", df_aide_alim.shape)\n",
    "df_aide_alim.head()"
   ]
  },
  {
   "cell_type": "markdown",
   "id": "4b64f6cf",
   "metadata": {},
   "source": [
    "## 2.3. Dataframe \"sous-nutrition\" <a class=\"anchor\" id=\"section_2.3.\"></a>"
   ]
  },
  {
   "cell_type": "code",
   "execution_count": 10,
   "id": "82c6daab",
   "metadata": {},
   "outputs": [],
   "source": [
    "# Remplacement de la période par une année :\n",
    "df_sous_nut[\"Année\"].replace([\"2012-2014\",\"2013-2015\",\"2014-2016\",\"2015-2017\",\"2016-2018\",\"2017-2019\"],[\"2013\",\"2014\",\"2015\",\"2016\",\"2017\",\"2018\"], inplace=True)"
   ]
  },
  {
   "cell_type": "code",
   "execution_count": 11,
   "id": "fd42fafc",
   "metadata": {},
   "outputs": [],
   "source": [
    "# Remplacement de toutes les valeurs NaN par des 0 :\n",
    "df_sous_nut = df_sous_nut.fillna(0)"
   ]
  },
  {
   "cell_type": "code",
   "execution_count": 12,
   "id": "a350cc6e",
   "metadata": {},
   "outputs": [],
   "source": [
    "# Remplacement des <0.1 par des 0 (on va considérer cette valeur comme négligeable) :\n",
    "df_sous_nut.replace(\"<0.1\",\"0\",inplace=True)"
   ]
  },
  {
   "cell_type": "code",
   "execution_count": 13,
   "id": "3992b600",
   "metadata": {},
   "outputs": [],
   "source": [
    "# Modification du type de données de str à float :\n",
    "df_sous_nut[\"Valeur\"] = df_sous_nut[\"Valeur\"].astype(float)"
   ]
  },
  {
   "cell_type": "code",
   "execution_count": 14,
   "id": "06023be9",
   "metadata": {},
   "outputs": [],
   "source": [
    "# Renommage de Valeur à Population en sous nutrition et mise à l'echelle :\n",
    "df_sous_nut.rename(columns = {\"Valeur\":\"Population en sous nutrition\"}, inplace = True)\n",
    "df_sous_nut[\"Population en sous nutrition\"] = df_sous_nut[\"Population en sous nutrition\"] * 1000000"
   ]
  },
  {
   "cell_type": "code",
   "execution_count": 15,
   "id": "a71367f0",
   "metadata": {},
   "outputs": [],
   "source": [
    "# Modification du type de données de Année et Valeur à int :\n",
    "df_sous_nut[[\"Année\",\"Population en sous nutrition\"]] = df_sous_nut[[\"Année\",\"Population en sous nutrition\"]].astype(int)"
   ]
  },
  {
   "cell_type": "code",
   "execution_count": 16,
   "id": "227add3f",
   "metadata": {},
   "outputs": [
    {
     "data": {
      "text/plain": [
       "Zone                            object\n",
       "Année                            int64\n",
       "Population en sous nutrition     int64\n",
       "dtype: object"
      ]
     },
     "execution_count": 16,
     "metadata": {},
     "output_type": "execute_result"
    }
   ],
   "source": [
    "df_sous_nut.dtypes"
   ]
  },
  {
   "cell_type": "code",
   "execution_count": 17,
   "id": "b312669d",
   "metadata": {},
   "outputs": [
    {
     "name": "stdout",
     "output_type": "stream",
     "text": [
      "La taille de la table sous_nutrition est de (1218, 3)\n"
     ]
    },
    {
     "data": {
      "text/html": [
       "<div>\n",
       "<style scoped>\n",
       "    .dataframe tbody tr th:only-of-type {\n",
       "        vertical-align: middle;\n",
       "    }\n",
       "\n",
       "    .dataframe tbody tr th {\n",
       "        vertical-align: top;\n",
       "    }\n",
       "\n",
       "    .dataframe thead th {\n",
       "        text-align: right;\n",
       "    }\n",
       "</style>\n",
       "<table border=\"1\" class=\"dataframe\">\n",
       "  <thead>\n",
       "    <tr style=\"text-align: right;\">\n",
       "      <th></th>\n",
       "      <th>Zone</th>\n",
       "      <th>Année</th>\n",
       "      <th>Population en sous nutrition</th>\n",
       "    </tr>\n",
       "  </thead>\n",
       "  <tbody>\n",
       "    <tr>\n",
       "      <th>0</th>\n",
       "      <td>Afghanistan</td>\n",
       "      <td>2013</td>\n",
       "      <td>8600000</td>\n",
       "    </tr>\n",
       "    <tr>\n",
       "      <th>1</th>\n",
       "      <td>Afghanistan</td>\n",
       "      <td>2014</td>\n",
       "      <td>8800000</td>\n",
       "    </tr>\n",
       "    <tr>\n",
       "      <th>2</th>\n",
       "      <td>Afghanistan</td>\n",
       "      <td>2015</td>\n",
       "      <td>8900000</td>\n",
       "    </tr>\n",
       "    <tr>\n",
       "      <th>3</th>\n",
       "      <td>Afghanistan</td>\n",
       "      <td>2016</td>\n",
       "      <td>9700000</td>\n",
       "    </tr>\n",
       "    <tr>\n",
       "      <th>4</th>\n",
       "      <td>Afghanistan</td>\n",
       "      <td>2017</td>\n",
       "      <td>10500000</td>\n",
       "    </tr>\n",
       "  </tbody>\n",
       "</table>\n",
       "</div>"
      ],
      "text/plain": [
       "          Zone  Année  Population en sous nutrition\n",
       "0  Afghanistan   2013                       8600000\n",
       "1  Afghanistan   2014                       8800000\n",
       "2  Afghanistan   2015                       8900000\n",
       "3  Afghanistan   2016                       9700000\n",
       "4  Afghanistan   2017                      10500000"
      ]
     },
     "execution_count": 17,
     "metadata": {},
     "output_type": "execute_result"
    }
   ],
   "source": [
    "print(\"La taille de la table sous_nutrition est de\", df_sous_nut.shape)\n",
    "df_sous_nut.head()"
   ]
  },
  {
   "cell_type": "markdown",
   "id": "fb92a278",
   "metadata": {},
   "source": [
    "## 2.4. Dataframe \"dispo alimentaire\" <a class=\"anchor\" id=\"section_2.4.\"></a>"
   ]
  },
  {
   "cell_type": "code",
   "execution_count": 18,
   "id": "55d6ab60",
   "metadata": {},
   "outputs": [],
   "source": [
    "# Remplacement de toutes les valeurs NaN par des 0 :\n",
    "df_dispo_alim = df_dispo_alim.fillna(0)"
   ]
  },
  {
   "cell_type": "code",
   "execution_count": 19,
   "id": "41354ee3",
   "metadata": {},
   "outputs": [
    {
     "name": "stdout",
     "output_type": "stream",
     "text": [
      "La taille de la table dispo_alimentaire est de (15605, 18)\n"
     ]
    },
    {
     "data": {
      "text/html": [
       "<div>\n",
       "<style scoped>\n",
       "    .dataframe tbody tr th:only-of-type {\n",
       "        vertical-align: middle;\n",
       "    }\n",
       "\n",
       "    .dataframe tbody tr th {\n",
       "        vertical-align: top;\n",
       "    }\n",
       "\n",
       "    .dataframe thead th {\n",
       "        text-align: right;\n",
       "    }\n",
       "</style>\n",
       "<table border=\"1\" class=\"dataframe\">\n",
       "  <thead>\n",
       "    <tr style=\"text-align: right;\">\n",
       "      <th></th>\n",
       "      <th>Zone</th>\n",
       "      <th>Produit</th>\n",
       "      <th>Origine</th>\n",
       "      <th>Aliments pour animaux</th>\n",
       "      <th>Autres Utilisations</th>\n",
       "      <th>Disponibilité alimentaire (Kcal/personne/jour)</th>\n",
       "      <th>Disponibilité alimentaire en quantité (kg/personne/an)</th>\n",
       "      <th>Disponibilité de matière grasse en quantité (g/personne/jour)</th>\n",
       "      <th>Disponibilité de protéines en quantité (g/personne/jour)</th>\n",
       "      <th>Disponibilité intérieure</th>\n",
       "      <th>Exportations - Quantité</th>\n",
       "      <th>Importations - Quantité</th>\n",
       "      <th>Nourriture</th>\n",
       "      <th>Pertes</th>\n",
       "      <th>Production</th>\n",
       "      <th>Semences</th>\n",
       "      <th>Traitement</th>\n",
       "      <th>Variation de stock</th>\n",
       "    </tr>\n",
       "  </thead>\n",
       "  <tbody>\n",
       "    <tr>\n",
       "      <th>0</th>\n",
       "      <td>Afghanistan</td>\n",
       "      <td>Abats Comestible</td>\n",
       "      <td>animale</td>\n",
       "      <td>0.0</td>\n",
       "      <td>0.0</td>\n",
       "      <td>5.0</td>\n",
       "      <td>1.72</td>\n",
       "      <td>0.20</td>\n",
       "      <td>0.77</td>\n",
       "      <td>53.0</td>\n",
       "      <td>0.0</td>\n",
       "      <td>0.0</td>\n",
       "      <td>53.0</td>\n",
       "      <td>0.0</td>\n",
       "      <td>53.0</td>\n",
       "      <td>0.0</td>\n",
       "      <td>0.0</td>\n",
       "      <td>0.0</td>\n",
       "    </tr>\n",
       "    <tr>\n",
       "      <th>1</th>\n",
       "      <td>Afghanistan</td>\n",
       "      <td>Agrumes, Autres</td>\n",
       "      <td>vegetale</td>\n",
       "      <td>0.0</td>\n",
       "      <td>0.0</td>\n",
       "      <td>1.0</td>\n",
       "      <td>1.29</td>\n",
       "      <td>0.01</td>\n",
       "      <td>0.02</td>\n",
       "      <td>41.0</td>\n",
       "      <td>2.0</td>\n",
       "      <td>40.0</td>\n",
       "      <td>39.0</td>\n",
       "      <td>2.0</td>\n",
       "      <td>3.0</td>\n",
       "      <td>0.0</td>\n",
       "      <td>0.0</td>\n",
       "      <td>0.0</td>\n",
       "    </tr>\n",
       "    <tr>\n",
       "      <th>2</th>\n",
       "      <td>Afghanistan</td>\n",
       "      <td>Aliments pour enfants</td>\n",
       "      <td>vegetale</td>\n",
       "      <td>0.0</td>\n",
       "      <td>0.0</td>\n",
       "      <td>1.0</td>\n",
       "      <td>0.06</td>\n",
       "      <td>0.01</td>\n",
       "      <td>0.03</td>\n",
       "      <td>2.0</td>\n",
       "      <td>0.0</td>\n",
       "      <td>2.0</td>\n",
       "      <td>2.0</td>\n",
       "      <td>0.0</td>\n",
       "      <td>0.0</td>\n",
       "      <td>0.0</td>\n",
       "      <td>0.0</td>\n",
       "      <td>0.0</td>\n",
       "    </tr>\n",
       "    <tr>\n",
       "      <th>3</th>\n",
       "      <td>Afghanistan</td>\n",
       "      <td>Ananas</td>\n",
       "      <td>vegetale</td>\n",
       "      <td>0.0</td>\n",
       "      <td>0.0</td>\n",
       "      <td>0.0</td>\n",
       "      <td>0.00</td>\n",
       "      <td>0.00</td>\n",
       "      <td>0.00</td>\n",
       "      <td>0.0</td>\n",
       "      <td>0.0</td>\n",
       "      <td>0.0</td>\n",
       "      <td>0.0</td>\n",
       "      <td>0.0</td>\n",
       "      <td>0.0</td>\n",
       "      <td>0.0</td>\n",
       "      <td>0.0</td>\n",
       "      <td>0.0</td>\n",
       "    </tr>\n",
       "    <tr>\n",
       "      <th>4</th>\n",
       "      <td>Afghanistan</td>\n",
       "      <td>Bananes</td>\n",
       "      <td>vegetale</td>\n",
       "      <td>0.0</td>\n",
       "      <td>0.0</td>\n",
       "      <td>4.0</td>\n",
       "      <td>2.70</td>\n",
       "      <td>0.02</td>\n",
       "      <td>0.05</td>\n",
       "      <td>82.0</td>\n",
       "      <td>0.0</td>\n",
       "      <td>82.0</td>\n",
       "      <td>82.0</td>\n",
       "      <td>0.0</td>\n",
       "      <td>0.0</td>\n",
       "      <td>0.0</td>\n",
       "      <td>0.0</td>\n",
       "      <td>0.0</td>\n",
       "    </tr>\n",
       "  </tbody>\n",
       "</table>\n",
       "</div>"
      ],
      "text/plain": [
       "          Zone                Produit   Origine  Aliments pour animaux  \\\n",
       "0  Afghanistan       Abats Comestible   animale                    0.0   \n",
       "1  Afghanistan        Agrumes, Autres  vegetale                    0.0   \n",
       "2  Afghanistan  Aliments pour enfants  vegetale                    0.0   \n",
       "3  Afghanistan                 Ananas  vegetale                    0.0   \n",
       "4  Afghanistan                Bananes  vegetale                    0.0   \n",
       "\n",
       "   Autres Utilisations  Disponibilité alimentaire (Kcal/personne/jour)  \\\n",
       "0                  0.0                                             5.0   \n",
       "1                  0.0                                             1.0   \n",
       "2                  0.0                                             1.0   \n",
       "3                  0.0                                             0.0   \n",
       "4                  0.0                                             4.0   \n",
       "\n",
       "   Disponibilité alimentaire en quantité (kg/personne/an)  \\\n",
       "0                                               1.72        \n",
       "1                                               1.29        \n",
       "2                                               0.06        \n",
       "3                                               0.00        \n",
       "4                                               2.70        \n",
       "\n",
       "   Disponibilité de matière grasse en quantité (g/personne/jour)  \\\n",
       "0                                               0.20               \n",
       "1                                               0.01               \n",
       "2                                               0.01               \n",
       "3                                               0.00               \n",
       "4                                               0.02               \n",
       "\n",
       "   Disponibilité de protéines en quantité (g/personne/jour)  \\\n",
       "0                                               0.77          \n",
       "1                                               0.02          \n",
       "2                                               0.03          \n",
       "3                                               0.00          \n",
       "4                                               0.05          \n",
       "\n",
       "   Disponibilité intérieure  Exportations - Quantité  Importations - Quantité  \\\n",
       "0                      53.0                      0.0                      0.0   \n",
       "1                      41.0                      2.0                     40.0   \n",
       "2                       2.0                      0.0                      2.0   \n",
       "3                       0.0                      0.0                      0.0   \n",
       "4                      82.0                      0.0                     82.0   \n",
       "\n",
       "   Nourriture  Pertes  Production  Semences  Traitement  Variation de stock  \n",
       "0        53.0     0.0        53.0       0.0         0.0                 0.0  \n",
       "1        39.0     2.0         3.0       0.0         0.0                 0.0  \n",
       "2         2.0     0.0         0.0       0.0         0.0                 0.0  \n",
       "3         0.0     0.0         0.0       0.0         0.0                 0.0  \n",
       "4        82.0     0.0         0.0       0.0         0.0                 0.0  "
      ]
     },
     "execution_count": 19,
     "metadata": {},
     "output_type": "execute_result"
    }
   ],
   "source": [
    "print(\"La taille de la table dispo_alimentaire est de\", df_dispo_alim.shape)\n",
    "df_dispo_alim.head()"
   ]
  },
  {
   "cell_type": "code",
   "execution_count": 20,
   "id": "2dd59551",
   "metadata": {},
   "outputs": [
    {
     "data": {
      "text/plain": [
       "Zone                                                              object\n",
       "Produit                                                           object\n",
       "Origine                                                           object\n",
       "Aliments pour animaux                                            float64\n",
       "Autres Utilisations                                              float64\n",
       "Disponibilité alimentaire (Kcal/personne/jour)                   float64\n",
       "Disponibilité alimentaire en quantité (kg/personne/an)           float64\n",
       "Disponibilité de matière grasse en quantité (g/personne/jour)    float64\n",
       "Disponibilité de protéines en quantité (g/personne/jour)         float64\n",
       "Disponibilité intérieure                                         float64\n",
       "Exportations - Quantité                                          float64\n",
       "Importations - Quantité                                          float64\n",
       "Nourriture                                                       float64\n",
       "Pertes                                                           float64\n",
       "Production                                                       float64\n",
       "Semences                                                         float64\n",
       "Traitement                                                       float64\n",
       "Variation de stock                                               float64\n",
       "dtype: object"
      ]
     },
     "execution_count": 20,
     "metadata": {},
     "output_type": "execute_result"
    }
   ],
   "source": [
    "df_dispo_alim.dtypes"
   ]
  },
  {
   "cell_type": "code",
   "execution_count": 21,
   "id": "ad48de2e",
   "metadata": {},
   "outputs": [
    {
     "data": {
      "text/plain": [
       "Zone                                                             0.0\n",
       "Produit                                                          0.0\n",
       "Origine                                                          0.0\n",
       "Aliments pour animaux                                            0.0\n",
       "Autres Utilisations                                              0.0\n",
       "Disponibilité alimentaire (Kcal/personne/jour)                   0.0\n",
       "Disponibilité alimentaire en quantité (kg/personne/an)           0.0\n",
       "Disponibilité de matière grasse en quantité (g/personne/jour)    0.0\n",
       "Disponibilité de protéines en quantité (g/personne/jour)         0.0\n",
       "Disponibilité intérieure                                         0.0\n",
       "Exportations - Quantité                                          0.0\n",
       "Importations - Quantité                                          0.0\n",
       "Nourriture                                                       0.0\n",
       "Pertes                                                           0.0\n",
       "Production                                                       0.0\n",
       "Semences                                                         0.0\n",
       "Traitement                                                       0.0\n",
       "Variation de stock                                               0.0\n",
       "dtype: float64"
      ]
     },
     "execution_count": 21,
     "metadata": {},
     "output_type": "execute_result"
    }
   ],
   "source": [
    "# Existe-t-il des valeurs manquantes dans ce df ?\n",
    "df_dispo_alim.isna().mean()"
   ]
  },
  {
   "cell_type": "markdown",
   "id": "ff3738a6",
   "metadata": {},
   "source": [
    "# 3. Analyses pour Marc <a class=\"anchor\" id=\"chapitre3\"></a>"
   ]
  },
  {
   "cell_type": "markdown",
   "id": "c8fbd6c0",
   "metadata": {},
   "source": [
    "## 3.1. *Requête 1 : Proportion de personnes en état de sous-nutrition en 2017* <a class=\"anchor\" id=\"section_3.1.\"></a>"
   ]
  },
  {
   "cell_type": "code",
   "execution_count": 22,
   "id": "e6db44d6",
   "metadata": {},
   "outputs": [
    {
     "name": "stdout",
     "output_type": "stream",
     "text": [
      "En 2017 le nombre de personnes en état de sous-nutrition était de : 535700000\n"
     ]
    }
   ],
   "source": [
    "# Calcul du nombre de personnes en état de sous-nutrition en 2017 :\n",
    "nbr_pers_sous_nutrition = np.sum(df_sous_nut.loc[df_sous_nut[\"Année\"] == 2017][\"Population en sous nutrition\"])\n",
    "print(\"En 2017 le nombre de personnes en état de sous-nutrition était de :\", nbr_pers_sous_nutrition)"
   ]
  },
  {
   "cell_type": "code",
   "execution_count": 23,
   "id": "f0751ecf",
   "metadata": {},
   "outputs": [
    {
     "name": "stdout",
     "output_type": "stream",
     "text": [
      "En 2017 la population mondiale était de : 7548134097\n"
     ]
    }
   ],
   "source": [
    "# Calcul de la population mondiale en 2017 :\n",
    "pop_mondiale_2017 = np.sum(df_pop.loc[df_pop[\"Année\"] == 2017][\"Population\"])\n",
    "print(\"En 2017 la population mondiale était de :\", pop_mondiale_2017)"
   ]
  },
  {
   "cell_type": "code",
   "execution_count": 88,
   "id": "cbeb9893",
   "metadata": {},
   "outputs": [
    {
     "name": "stdout",
     "output_type": "stream",
     "text": [
      "La proportion de personnes en état de sous-nutrition était de 7.1 % en 2017.\n"
     ]
    }
   ],
   "source": [
    "# Calcul de la proportion de personnes en état de sous-nutrition dans le monde :\n",
    "prop_sous_nut_2017 = (nbr_pers_sous_nutrition / pop_mondiale_2017) * 100\n",
    "print(\"La proportion de personnes en état de sous-nutrition était de\", round(prop_sous_nut_2017,2), \"% en 2017.\")"
   ]
  },
  {
   "cell_type": "markdown",
   "id": "a92124bd",
   "metadata": {},
   "source": [
    "## 3.2. *Requête 2 : Nombre théorique de personnes qui pourraient être nourries* <a class=\"anchor\" id=\"section_3.2.\"></a>"
   ]
  },
  {
   "cell_type": "markdown",
   "id": "3afaedbe",
   "metadata": {},
   "source": [
    "### 3.2.1. À partir de la disponibilité alimentaire mondiale <a class=\"anchor\" id=\"section_3.2.1.\"></a>"
   ]
  },
  {
   "cell_type": "code",
   "execution_count": 25,
   "id": "5094637b",
   "metadata": {},
   "outputs": [],
   "source": [
    "# Création d'un dataframe de la disponibilité alimentaire totale par pays (en Kcal/pers/jour) :\n",
    "dispo_tot_pays = df_dispo_alim.groupby(\"Zone\").sum()[\"Disponibilité alimentaire (Kcal/personne/jour)\"]"
   ]
  },
  {
   "cell_type": "code",
   "execution_count": 26,
   "id": "bb4704d2",
   "metadata": {},
   "outputs": [
    {
     "data": {
      "text/html": [
       "<div>\n",
       "<style scoped>\n",
       "    .dataframe tbody tr th:only-of-type {\n",
       "        vertical-align: middle;\n",
       "    }\n",
       "\n",
       "    .dataframe tbody tr th {\n",
       "        vertical-align: top;\n",
       "    }\n",
       "\n",
       "    .dataframe thead th {\n",
       "        text-align: right;\n",
       "    }\n",
       "</style>\n",
       "<table border=\"1\" class=\"dataframe\">\n",
       "  <thead>\n",
       "    <tr style=\"text-align: right;\">\n",
       "      <th></th>\n",
       "      <th>Zone</th>\n",
       "      <th>Population</th>\n",
       "      <th>Disponibilité alimentaire (Kcal/personne/jour)</th>\n",
       "    </tr>\n",
       "  </thead>\n",
       "  <tbody>\n",
       "    <tr>\n",
       "      <th>0</th>\n",
       "      <td>Afghanistan</td>\n",
       "      <td>36296113</td>\n",
       "      <td>2087.0</td>\n",
       "    </tr>\n",
       "    <tr>\n",
       "      <th>1</th>\n",
       "      <td>Afrique du Sud</td>\n",
       "      <td>57009756</td>\n",
       "      <td>3020.0</td>\n",
       "    </tr>\n",
       "    <tr>\n",
       "      <th>2</th>\n",
       "      <td>Albanie</td>\n",
       "      <td>2884169</td>\n",
       "      <td>3188.0</td>\n",
       "    </tr>\n",
       "    <tr>\n",
       "      <th>3</th>\n",
       "      <td>Algérie</td>\n",
       "      <td>41389189</td>\n",
       "      <td>3293.0</td>\n",
       "    </tr>\n",
       "    <tr>\n",
       "      <th>4</th>\n",
       "      <td>Allemagne</td>\n",
       "      <td>82658409</td>\n",
       "      <td>3503.0</td>\n",
       "    </tr>\n",
       "  </tbody>\n",
       "</table>\n",
       "</div>"
      ],
      "text/plain": [
       "             Zone  Population  Disponibilité alimentaire (Kcal/personne/jour)\n",
       "0     Afghanistan    36296113                                          2087.0\n",
       "1  Afrique du Sud    57009756                                          3020.0\n",
       "2         Albanie     2884169                                          3188.0\n",
       "3         Algérie    41389189                                          3293.0\n",
       "4       Allemagne    82658409                                          3503.0"
      ]
     },
     "execution_count": 26,
     "metadata": {},
     "output_type": "execute_result"
    }
   ],
   "source": [
    "# Jointure des tables df_pop & dispo_tot_pays (ajout de la population des pays en 2017 au df) :\n",
    "dispo_tot_pays = pd.merge(df_pop.loc[df_pop[\"Année\"] == 2017, [\"Zone\",\"Population\"]], dispo_tot_pays, on=\"Zone\")\n",
    "dispo_tot_pays.head()"
   ]
  },
  {
   "cell_type": "code",
   "execution_count": 27,
   "id": "d6372868",
   "metadata": {},
   "outputs": [
    {
     "data": {
      "text/plain": [
       "<AxesSubplot:>"
      ]
     },
     "execution_count": 27,
     "metadata": {},
     "output_type": "execute_result"
    },
    {
     "data": {
      "image/png": "[encoded data removed]",
      "text/plain": [
       "<Figure size 640x480 with 1 Axes>"
      ]
     },
     "metadata": {},
     "output_type": "display_data"
    }
   ],
   "source": [
    "dispo_tot_pays.boxplot(\"Disponibilité alimentaire (Kcal/personne/jour)\")"
   ]
  },
  {
   "cell_type": "code",
   "execution_count": 28,
   "id": "824bb85c",
   "metadata": {},
   "outputs": [
    {
     "name": "stdout",
     "output_type": "stream",
     "text": [
      "Il y a 20918984609007 calories disponibles dans le monde\n"
     ]
    }
   ],
   "source": [
    "# Calcul du nombre de calories disponibles dans le monde :\n",
    "kcal_dispo_monde = np.sum(dispo_tot_pays[\"Population\"]*dispo_tot_pays[\"Disponibilité alimentaire (Kcal/personne/jour)\"])\n",
    "print(\"Il y a\", round(kcal_dispo_monde), \"calories disponibles dans le monde\")"
   ]
  },
  {
   "cell_type": "code",
   "execution_count": 29,
   "id": "dcc70a1a",
   "metadata": {},
   "outputs": [],
   "source": [
    "# Nombre de Kcal nécessaires/jour/personne en moyenne :\n",
    "calories_personne = 2400"
   ]
  },
  {
   "cell_type": "code",
   "execution_count": 30,
   "id": "ab3e8713",
   "metadata": {},
   "outputs": [
    {
     "name": "stdout",
     "output_type": "stream",
     "text": [
      "Population mondiale en 2017 : 7548134097\n",
      "Nombre théorique de personnes qui pourraient être nourries : 8716243587\n"
     ]
    }
   ],
   "source": [
    "# Calcul du nombre de personnes qui pourraient être nourries sur une base 2400 Kcal/j :\n",
    "perso_theo = (kcal_dispo_monde / calories_personne)\n",
    "print(\"Population mondiale en 2017 :\", pop_mondiale_2017)\n",
    "print(\"Nombre théorique de personnes qui pourraient être nourries :\", round(perso_theo))"
   ]
  },
  {
   "cell_type": "code",
   "execution_count": 31,
   "id": "9221f0f1",
   "metadata": {},
   "outputs": [
    {
     "name": "stdout",
     "output_type": "stream",
     "text": [
      "Sur une base de 2400 Kcal/j/personne, on aurait pu théoriquement nourrir 115 % de la population mondiale en 2017.\n"
     ]
    }
   ],
   "source": [
    "# Calcul du pourcentage de la population qu'on aurait pu nourrir en 2017 :\n",
    "pourcentage_theo = ((perso_theo / pop_mondiale_2017)*100)\n",
    "print(\"Sur une base de 2400 Kcal/j/personne, on aurait pu théoriquement nourrir\", round(pourcentage_theo), \"% de la population mondiale en 2017.\")"
   ]
  },
  {
   "cell_type": "markdown",
   "id": "3a690561",
   "metadata": {},
   "source": [
    "### 3.2.2. À partir de la disponibilité alimentaire des produits végétaux <a class=\"anchor\" id=\"section_3.2.2.\"></a>"
   ]
  },
  {
   "cell_type": "code",
   "execution_count": 89,
   "id": "ede137a2",
   "metadata": {},
   "outputs": [],
   "source": [
    "# Premier filtre pour ne garder que les aliments végétaux :\n",
    "dispo_alim_vege = df_dispo_alim.loc[df_dispo_alim[\"Origine\"] == \"vegetale\"]"
   ]
  },
  {
   "cell_type": "code",
   "execution_count": 33,
   "id": "0120d837",
   "metadata": {},
   "outputs": [],
   "source": [
    "# Création d'un df de la disponibilité alimentaire totale des produits végétaux par pays (en Kcal/pers/jour) :\n",
    "dispo_tot_vege_pays = dispo_alim_vege.groupby(\"Zone\").sum()[\"Disponibilité alimentaire (Kcal/personne/jour)\"]"
   ]
  },
  {
   "cell_type": "code",
   "execution_count": 34,
   "id": "a6c589d7",
   "metadata": {},
   "outputs": [
    {
     "data": {
      "text/html": [
       "<div>\n",
       "<style scoped>\n",
       "    .dataframe tbody tr th:only-of-type {\n",
       "        vertical-align: middle;\n",
       "    }\n",
       "\n",
       "    .dataframe tbody tr th {\n",
       "        vertical-align: top;\n",
       "    }\n",
       "\n",
       "    .dataframe thead th {\n",
       "        text-align: right;\n",
       "    }\n",
       "</style>\n",
       "<table border=\"1\" class=\"dataframe\">\n",
       "  <thead>\n",
       "    <tr style=\"text-align: right;\">\n",
       "      <th></th>\n",
       "      <th>Zone</th>\n",
       "      <th>Population</th>\n",
       "      <th>Disponibilité alimentaire (Kcal/personne/jour)</th>\n",
       "    </tr>\n",
       "  </thead>\n",
       "  <tbody>\n",
       "    <tr>\n",
       "      <th>0</th>\n",
       "      <td>Afghanistan</td>\n",
       "      <td>36296113</td>\n",
       "      <td>1871.0</td>\n",
       "    </tr>\n",
       "    <tr>\n",
       "      <th>1</th>\n",
       "      <td>Afrique du Sud</td>\n",
       "      <td>57009756</td>\n",
       "      <td>2533.0</td>\n",
       "    </tr>\n",
       "    <tr>\n",
       "      <th>2</th>\n",
       "      <td>Albanie</td>\n",
       "      <td>2884169</td>\n",
       "      <td>2203.0</td>\n",
       "    </tr>\n",
       "    <tr>\n",
       "      <th>3</th>\n",
       "      <td>Algérie</td>\n",
       "      <td>41389189</td>\n",
       "      <td>2915.0</td>\n",
       "    </tr>\n",
       "    <tr>\n",
       "      <th>4</th>\n",
       "      <td>Allemagne</td>\n",
       "      <td>82658409</td>\n",
       "      <td>2461.0</td>\n",
       "    </tr>\n",
       "  </tbody>\n",
       "</table>\n",
       "</div>"
      ],
      "text/plain": [
       "             Zone  Population  Disponibilité alimentaire (Kcal/personne/jour)\n",
       "0     Afghanistan    36296113                                          1871.0\n",
       "1  Afrique du Sud    57009756                                          2533.0\n",
       "2         Albanie     2884169                                          2203.0\n",
       "3         Algérie    41389189                                          2915.0\n",
       "4       Allemagne    82658409                                          2461.0"
      ]
     },
     "execution_count": 34,
     "metadata": {},
     "output_type": "execute_result"
    }
   ],
   "source": [
    "# Jointure des tables df_pop & dispo_tot_vege_pays (ajout de la population des pays en 2017 au df) :\n",
    "dispo_tot_vege_pays = pd.merge(df_pop.loc[df_pop[\"Année\"] == 2017, [\"Zone\",\"Population\"]], dispo_tot_vege_pays, on=\"Zone\")\n",
    "dispo_tot_vege_pays.head()"
   ]
  },
  {
   "cell_type": "code",
   "execution_count": 35,
   "id": "9d48cf33",
   "metadata": {},
   "outputs": [
    {
     "name": "stdout",
     "output_type": "stream",
     "text": [
      "Il y a 17260764197424 calories disponibles dans le monde\n"
     ]
    }
   ],
   "source": [
    "# Calcul du nombre de calories végétales disponibles dans le monde :\n",
    "kcal_vege_dispo_monde = np.sum(dispo_tot_vege_pays[\"Population\"]*dispo_tot_vege_pays[\"Disponibilité alimentaire (Kcal/personne/jour)\"])\n",
    "print(\"Il y a\", round(kcal_vege_dispo_monde), \"calories disponibles dans le monde\")"
   ]
  },
  {
   "cell_type": "code",
   "execution_count": 36,
   "id": "a7fb9a3c",
   "metadata": {},
   "outputs": [
    {
     "name": "stdout",
     "output_type": "stream",
     "text": [
      "Population mondiale en 2017 : 7548134097\n",
      "Nombre théorique de personnes qui pourraient être nourries avec les calories végétales disponibles : 7191985082\n"
     ]
    }
   ],
   "source": [
    "# Calcul du nombre de personnes qui pourraient être nourries avec les Kcal végétales sur une base 2400 Kcal/j :\n",
    "perso_theo_vege = (kcal_vege_dispo_monde / calories_personne)\n",
    "print(\"Population mondiale en 2017 :\", pop_mondiale_2017)\n",
    "print(\"Nombre théorique de personnes qui pourraient être nourries avec les calories végétales disponibles :\", round(perso_theo_vege))"
   ]
  },
  {
   "cell_type": "code",
   "execution_count": 37,
   "id": "ca3b0b61",
   "metadata": {},
   "outputs": [
    {
     "name": "stdout",
     "output_type": "stream",
     "text": [
      "Sur une base de 2400 Kcal/j/personne, on aurait pu théoriquement nourrir 95 % de la population mondiale en 2017.\n"
     ]
    }
   ],
   "source": [
    "# Calcul du pourcentage de la population qu'on aurait pu nourrir avec les calories végétales en 2017 :\n",
    "pourcentage_theo_vege = ((perso_theo_vege / pop_mondiale_2017)*100)\n",
    "print(\"Sur une base de 2400 Kcal/j/personne, on aurait pu théoriquement nourrir\", round(pourcentage_theo_vege), \"% de la population mondiale en 2017.\")"
   ]
  },
  {
   "cell_type": "markdown",
   "id": "619b5811",
   "metadata": {},
   "source": [
    "## 3.3. *Requête 3 : Utilisation de la disponibilité intérieure* <a class=\"anchor\" id=\"section_3.3.\"></a>"
   ]
  },
  {
   "cell_type": "markdown",
   "id": "65df060a",
   "metadata": {},
   "source": [
    "Disponibilité intérieure = Production + Importation - Exportation + Variation des stocks\n",
    "                         = Nourriture + Animaux + Perte + Semence + Traitement + Autres"
   ]
  },
  {
   "cell_type": "markdown",
   "id": "7cbebc39",
   "metadata": {},
   "source": [
    "### 3.3.1. Part  qui est attribuée à l’alimentation animale <a class=\"anchor\" id=\"section_3.3.1.\"></a>"
   ]
  },
  {
   "cell_type": "code",
   "execution_count": 38,
   "id": "c8dd04d4",
   "metadata": {},
   "outputs": [],
   "source": [
    "# Création d'un df avec les variables qui nous intéressent :\n",
    "df_dispo_alim_part = df_dispo_alim[[\"Zone\",\"Aliments pour animaux\",\"Disponibilité intérieure\",]]"
   ]
  },
  {
   "cell_type": "code",
   "execution_count": 39,
   "id": "84410b2f",
   "metadata": {},
   "outputs": [
    {
     "data": {
      "text/html": [
       "<div>\n",
       "<style scoped>\n",
       "    .dataframe tbody tr th:only-of-type {\n",
       "        vertical-align: middle;\n",
       "    }\n",
       "\n",
       "    .dataframe tbody tr th {\n",
       "        vertical-align: top;\n",
       "    }\n",
       "\n",
       "    .dataframe thead th {\n",
       "        text-align: right;\n",
       "    }\n",
       "</style>\n",
       "<table border=\"1\" class=\"dataframe\">\n",
       "  <thead>\n",
       "    <tr style=\"text-align: right;\">\n",
       "      <th></th>\n",
       "      <th>Aliments pour animaux</th>\n",
       "      <th>Disponibilité intérieure</th>\n",
       "      <th>% alimentation animale</th>\n",
       "    </tr>\n",
       "    <tr>\n",
       "      <th>Zone</th>\n",
       "      <th></th>\n",
       "      <th></th>\n",
       "      <th></th>\n",
       "    </tr>\n",
       "  </thead>\n",
       "  <tbody>\n",
       "    <tr>\n",
       "      <th>Afghanistan</th>\n",
       "      <td>768.0</td>\n",
       "      <td>13515.0</td>\n",
       "      <td>5.682575</td>\n",
       "    </tr>\n",
       "    <tr>\n",
       "      <th>Afrique du Sud</th>\n",
       "      <td>5309.0</td>\n",
       "      <td>61256.0</td>\n",
       "      <td>8.666906</td>\n",
       "    </tr>\n",
       "    <tr>\n",
       "      <th>Albanie</th>\n",
       "      <td>660.0</td>\n",
       "      <td>4758.0</td>\n",
       "      <td>13.871375</td>\n",
       "    </tr>\n",
       "    <tr>\n",
       "      <th>Algérie</th>\n",
       "      <td>4352.0</td>\n",
       "      <td>42630.0</td>\n",
       "      <td>10.208773</td>\n",
       "    </tr>\n",
       "    <tr>\n",
       "      <th>Allemagne</th>\n",
       "      <td>30209.0</td>\n",
       "      <td>162275.0</td>\n",
       "      <td>18.615930</td>\n",
       "    </tr>\n",
       "  </tbody>\n",
       "</table>\n",
       "</div>"
      ],
      "text/plain": [
       "                Aliments pour animaux  Disponibilité intérieure  \\\n",
       "Zone                                                              \n",
       "Afghanistan                     768.0                   13515.0   \n",
       "Afrique du Sud                 5309.0                   61256.0   \n",
       "Albanie                         660.0                    4758.0   \n",
       "Algérie                        4352.0                   42630.0   \n",
       "Allemagne                     30209.0                  162275.0   \n",
       "\n",
       "                % alimentation animale  \n",
       "Zone                                    \n",
       "Afghanistan                   5.682575  \n",
       "Afrique du Sud                8.666906  \n",
       "Albanie                      13.871375  \n",
       "Algérie                      10.208773  \n",
       "Allemagne                    18.615930  "
      ]
     },
     "execution_count": 39,
     "metadata": {},
     "output_type": "execute_result"
    }
   ],
   "source": [
    "# Ajout d'une colonne qui nous donne la part qui est attribuée à l'alimentation animale par pays :\n",
    "df_dispo_alim_part = df_dispo_alim_part.groupby(\"Zone\").sum()[[\"Aliments pour animaux\",\"Disponibilité intérieure\"]]\n",
    "df_dispo_alim_part[\"% alimentation animale\"] = ((df_dispo_alim_part[\"Aliments pour animaux\"] / df_dispo_alim_part[\"Disponibilité intérieure\"])*100)\n",
    "df_dispo_alim_part.head()"
   ]
  },
  {
   "cell_type": "code",
   "execution_count": 90,
   "id": "a8037cdf",
   "metadata": {},
   "outputs": [
    {
     "data": {
      "text/html": [
       "<div>\n",
       "<style scoped>\n",
       "    .dataframe tbody tr th:only-of-type {\n",
       "        vertical-align: middle;\n",
       "    }\n",
       "\n",
       "    .dataframe tbody tr th {\n",
       "        vertical-align: top;\n",
       "    }\n",
       "\n",
       "    .dataframe thead th {\n",
       "        text-align: right;\n",
       "    }\n",
       "</style>\n",
       "<table border=\"1\" class=\"dataframe\">\n",
       "  <thead>\n",
       "    <tr style=\"text-align: right;\">\n",
       "      <th></th>\n",
       "      <th>Aliments pour animaux</th>\n",
       "      <th>Disponibilité intérieure</th>\n",
       "      <th>% alimentation animale</th>\n",
       "    </tr>\n",
       "  </thead>\n",
       "  <tbody>\n",
       "    <tr>\n",
       "      <th>count</th>\n",
       "      <td>174.000000</td>\n",
       "      <td>1.740000e+02</td>\n",
       "      <td>174.000000</td>\n",
       "    </tr>\n",
       "    <tr>\n",
       "      <th>mean</th>\n",
       "      <td>7495.660920</td>\n",
       "      <td>5.660341e+04</td>\n",
       "      <td>12.024054</td>\n",
       "    </tr>\n",
       "    <tr>\n",
       "      <th>std</th>\n",
       "      <td>29613.064847</td>\n",
       "      <td>2.008030e+05</td>\n",
       "      <td>9.754659</td>\n",
       "    </tr>\n",
       "    <tr>\n",
       "      <th>min</th>\n",
       "      <td>0.000000</td>\n",
       "      <td>5.900000e+01</td>\n",
       "      <td>0.000000</td>\n",
       "    </tr>\n",
       "    <tr>\n",
       "      <th>25%</th>\n",
       "      <td>113.000000</td>\n",
       "      <td>2.854500e+03</td>\n",
       "      <td>3.548217</td>\n",
       "    </tr>\n",
       "    <tr>\n",
       "      <th>50%</th>\n",
       "      <td>959.500000</td>\n",
       "      <td>1.113200e+04</td>\n",
       "      <td>10.223261</td>\n",
       "    </tr>\n",
       "    <tr>\n",
       "      <th>75%</th>\n",
       "      <td>4427.750000</td>\n",
       "      <td>3.122925e+04</td>\n",
       "      <td>17.821802</td>\n",
       "    </tr>\n",
       "    <tr>\n",
       "      <th>max</th>\n",
       "      <td>345951.000000</td>\n",
       "      <td>2.036726e+06</td>\n",
       "      <td>39.672895</td>\n",
       "    </tr>\n",
       "  </tbody>\n",
       "</table>\n",
       "</div>"
      ],
      "text/plain": [
       "       Aliments pour animaux  Disponibilité intérieure  % alimentation animale\n",
       "count             174.000000              1.740000e+02              174.000000\n",
       "mean             7495.660920              5.660341e+04               12.024054\n",
       "std             29613.064847              2.008030e+05                9.754659\n",
       "min                 0.000000              5.900000e+01                0.000000\n",
       "25%               113.000000              2.854500e+03                3.548217\n",
       "50%               959.500000              1.113200e+04               10.223261\n",
       "75%              4427.750000              3.122925e+04               17.821802\n",
       "max            345951.000000              2.036726e+06               39.672895"
      ]
     },
     "execution_count": 90,
     "metadata": {},
     "output_type": "execute_result"
    }
   ],
   "source": [
    "# Vérification des valeurs pour le % :\n",
    "df_dispo_alim_part.describe()"
   ]
  },
  {
   "cell_type": "code",
   "execution_count": 41,
   "id": "a13b85be",
   "metadata": {},
   "outputs": [],
   "source": [
    "# Calcul de l'alimentation animale mondiale totale (en milliers de tonnes) :\n",
    "alim_animaux = np.sum(df_dispo_alim_part[\"Aliments pour animaux\"])"
   ]
  },
  {
   "cell_type": "code",
   "execution_count": 42,
   "id": "c6389268",
   "metadata": {},
   "outputs": [],
   "source": [
    "# Calcul de la disponibilité intérieure mondiale totale (en milliers de tonnes) :\n",
    "dispo_int_tot = np.sum(df_dispo_alim_part[\"Disponibilité intérieure\"])"
   ]
  },
  {
   "cell_type": "code",
   "execution_count": 43,
   "id": "52290f61",
   "metadata": {},
   "outputs": [
    {
     "name": "stdout",
     "output_type": "stream",
     "text": [
      "13.24 % de la disponibilité intérieure mondiale est attribuée à l'alimentation animale.\n"
     ]
    }
   ],
   "source": [
    "# Calcul du pourcentage de la disponibilité intérieure mondiale attribuée à l'alimentation animale :\n",
    "part_alim_animale = round(((alim_animaux / dispo_int_tot)*100),2)\n",
    "print(part_alim_animale, \"% de la disponibilité intérieure mondiale est attribuée à l'alimentation animale.\")"
   ]
  },
  {
   "cell_type": "markdown",
   "id": "e4ab8a3a",
   "metadata": {},
   "source": [
    "### 3.3.2. Part qui est perdue <a class=\"anchor\" id=\"section_3.3.2.\"></a>"
   ]
  },
  {
   "cell_type": "code",
   "execution_count": 44,
   "id": "04bfcb3a",
   "metadata": {},
   "outputs": [],
   "source": [
    "# Création d'un df avec les pertes et la disponibilité intérieure totale par pays (en milliers de tonnes) :\n",
    "dispo_alim_pertes = df_dispo_alim[[\"Zone\",\"Pertes\",\"Disponibilité intérieure\",]].groupby(\"Zone\").sum()[[\"Pertes\",\"Disponibilité intérieure\"]]"
   ]
  },
  {
   "cell_type": "code",
   "execution_count": 45,
   "id": "11be6e52",
   "metadata": {},
   "outputs": [],
   "source": [
    "# Ajout d'une colonne qui nous donne la part de pertes par pays :\n",
    "dispo_alim_pertes[\"% de pertes\"] = ((dispo_alim_pertes[\"Pertes\"] / dispo_alim_pertes[\"Disponibilité intérieure\"])*100)"
   ]
  },
  {
   "cell_type": "code",
   "execution_count": 46,
   "id": "1f9eb4f1",
   "metadata": {},
   "outputs": [
    {
     "data": {
      "text/html": [
       "<div>\n",
       "<style scoped>\n",
       "    .dataframe tbody tr th:only-of-type {\n",
       "        vertical-align: middle;\n",
       "    }\n",
       "\n",
       "    .dataframe tbody tr th {\n",
       "        vertical-align: top;\n",
       "    }\n",
       "\n",
       "    .dataframe thead th {\n",
       "        text-align: right;\n",
       "    }\n",
       "</style>\n",
       "<table border=\"1\" class=\"dataframe\">\n",
       "  <thead>\n",
       "    <tr style=\"text-align: right;\">\n",
       "      <th></th>\n",
       "      <th>Pertes</th>\n",
       "      <th>Disponibilité intérieure</th>\n",
       "      <th>% de pertes</th>\n",
       "    </tr>\n",
       "    <tr>\n",
       "      <th>Zone</th>\n",
       "      <th></th>\n",
       "      <th></th>\n",
       "      <th></th>\n",
       "    </tr>\n",
       "  </thead>\n",
       "  <tbody>\n",
       "    <tr>\n",
       "      <th>Afghanistan</th>\n",
       "      <td>1135.0</td>\n",
       "      <td>13515.0</td>\n",
       "      <td>8.398076</td>\n",
       "    </tr>\n",
       "    <tr>\n",
       "      <th>Afrique du Sud</th>\n",
       "      <td>2193.0</td>\n",
       "      <td>61256.0</td>\n",
       "      <td>3.580057</td>\n",
       "    </tr>\n",
       "    <tr>\n",
       "      <th>Albanie</th>\n",
       "      <td>276.0</td>\n",
       "      <td>4758.0</td>\n",
       "      <td>5.800757</td>\n",
       "    </tr>\n",
       "    <tr>\n",
       "      <th>Algérie</th>\n",
       "      <td>3753.0</td>\n",
       "      <td>42630.0</td>\n",
       "      <td>8.803659</td>\n",
       "    </tr>\n",
       "    <tr>\n",
       "      <th>Allemagne</th>\n",
       "      <td>3781.0</td>\n",
       "      <td>162275.0</td>\n",
       "      <td>2.329995</td>\n",
       "    </tr>\n",
       "  </tbody>\n",
       "</table>\n",
       "</div>"
      ],
      "text/plain": [
       "                Pertes  Disponibilité intérieure  % de pertes\n",
       "Zone                                                         \n",
       "Afghanistan     1135.0                   13515.0     8.398076\n",
       "Afrique du Sud  2193.0                   61256.0     3.580057\n",
       "Albanie          276.0                    4758.0     5.800757\n",
       "Algérie         3753.0                   42630.0     8.803659\n",
       "Allemagne       3781.0                  162275.0     2.329995"
      ]
     },
     "execution_count": 46,
     "metadata": {},
     "output_type": "execute_result"
    }
   ],
   "source": [
    "dispo_alim_pertes.head()"
   ]
  },
  {
   "cell_type": "code",
   "execution_count": 47,
   "id": "4503c2ed",
   "metadata": {},
   "outputs": [],
   "source": [
    "# Calcul de la perte mondiale totale (en milliers de tonnes) :\n",
    "perte_mondiale_tot = np.sum(dispo_alim_pertes[\"Pertes\"])"
   ]
  },
  {
   "cell_type": "code",
   "execution_count": 48,
   "id": "3f7070f2",
   "metadata": {},
   "outputs": [
    {
     "name": "stdout",
     "output_type": "stream",
     "text": [
      "4.61 % de la disponibilité intérieure mondiale est perdue.\n"
     ]
    }
   ],
   "source": [
    "# Calcul du pourcentage de la disponibilité intérieure mondiale qui est perdue :\n",
    "part_perte_mondiale = round(((perte_mondiale_tot / dispo_int_tot)*100),2)\n",
    "print(part_perte_mondiale, \"% de la disponibilité intérieure mondiale est perdue.\")"
   ]
  },
  {
   "cell_type": "markdown",
   "id": "1c6789fc",
   "metadata": {},
   "source": [
    "### 3.3.3. Part qui est utilisée pour l'alimentation humaine <a class=\"anchor\" id=\"section_3.3.3.\"></a>"
   ]
  },
  {
   "cell_type": "code",
   "execution_count": 49,
   "id": "8caf64b3",
   "metadata": {},
   "outputs": [],
   "source": [
    "# Création d'un df avec la disponibilité intérieure totale par pays et son utilisation pour l'alimentation humaine (en milliers de tonnes) :\n",
    "dispo_alim_humaine = df_dispo_alim[[\"Zone\",\"Nourriture\",\"Disponibilité intérieure\",]].groupby(\"Zone\").sum()[[\"Nourriture\",\"Disponibilité intérieure\"]]\n",
    "dispo_alim_humaine[\"% utilisé pour l'alimentation humaine\"] = ((dispo_alim_humaine[\"Nourriture\"] / dispo_alim_humaine[\"Disponibilité intérieure\"])*100)"
   ]
  },
  {
   "cell_type": "code",
   "execution_count": 50,
   "id": "3e876cb5",
   "metadata": {},
   "outputs": [
    {
     "data": {
      "text/html": [
       "<div>\n",
       "<style scoped>\n",
       "    .dataframe tbody tr th:only-of-type {\n",
       "        vertical-align: middle;\n",
       "    }\n",
       "\n",
       "    .dataframe tbody tr th {\n",
       "        vertical-align: top;\n",
       "    }\n",
       "\n",
       "    .dataframe thead th {\n",
       "        text-align: right;\n",
       "    }\n",
       "</style>\n",
       "<table border=\"1\" class=\"dataframe\">\n",
       "  <thead>\n",
       "    <tr style=\"text-align: right;\">\n",
       "      <th></th>\n",
       "      <th>Nourriture</th>\n",
       "      <th>Disponibilité intérieure</th>\n",
       "      <th>% utilisé pour l'alimentation humaine</th>\n",
       "    </tr>\n",
       "    <tr>\n",
       "      <th>Zone</th>\n",
       "      <th></th>\n",
       "      <th></th>\n",
       "      <th></th>\n",
       "    </tr>\n",
       "  </thead>\n",
       "  <tbody>\n",
       "    <tr>\n",
       "      <th>Afghanistan</th>\n",
       "      <td>10735.0</td>\n",
       "      <td>13515.0</td>\n",
       "      <td>79.430263</td>\n",
       "    </tr>\n",
       "    <tr>\n",
       "      <th>Afrique du Sud</th>\n",
       "      <td>29812.0</td>\n",
       "      <td>61256.0</td>\n",
       "      <td>48.667886</td>\n",
       "    </tr>\n",
       "    <tr>\n",
       "      <th>Albanie</th>\n",
       "      <td>3476.0</td>\n",
       "      <td>4758.0</td>\n",
       "      <td>73.055906</td>\n",
       "    </tr>\n",
       "    <tr>\n",
       "      <th>Algérie</th>\n",
       "      <td>31729.0</td>\n",
       "      <td>42630.0</td>\n",
       "      <td>74.428806</td>\n",
       "    </tr>\n",
       "    <tr>\n",
       "      <th>Allemagne</th>\n",
       "      <td>79238.0</td>\n",
       "      <td>162275.0</td>\n",
       "      <td>48.829456</td>\n",
       "    </tr>\n",
       "  </tbody>\n",
       "</table>\n",
       "</div>"
      ],
      "text/plain": [
       "                Nourriture  Disponibilité intérieure  \\\n",
       "Zone                                                   \n",
       "Afghanistan        10735.0                   13515.0   \n",
       "Afrique du Sud     29812.0                   61256.0   \n",
       "Albanie             3476.0                    4758.0   \n",
       "Algérie            31729.0                   42630.0   \n",
       "Allemagne          79238.0                  162275.0   \n",
       "\n",
       "                % utilisé pour l'alimentation humaine  \n",
       "Zone                                                   \n",
       "Afghanistan                                 79.430263  \n",
       "Afrique du Sud                              48.667886  \n",
       "Albanie                                     73.055906  \n",
       "Algérie                                     74.428806  \n",
       "Allemagne                                   48.829456  "
      ]
     },
     "execution_count": 50,
     "metadata": {},
     "output_type": "execute_result"
    }
   ],
   "source": [
    "dispo_alim_humaine.head()"
   ]
  },
  {
   "cell_type": "code",
   "execution_count": 51,
   "id": "948c06eb",
   "metadata": {},
   "outputs": [],
   "source": [
    "# Calcul de l'alimentation humaine totale (en milliers de tonnes) :\n",
    "alim_mondiale_tot = np.sum(dispo_alim_humaine[\"Nourriture\"])"
   ]
  },
  {
   "cell_type": "code",
   "execution_count": 91,
   "id": "6defba69",
   "metadata": {},
   "outputs": [
    {
     "name": "stdout",
     "output_type": "stream",
     "text": [
      "49.51 % de la disponibilité intérieure mondiale est attribuée à l'alimentation humaine.\n"
     ]
    }
   ],
   "source": [
    "# Calcul du pourcentage de la disponibilité intérieure mondiale qui est utilisée pour l'alimentation humaine :\n",
    "part_alim_mondiale = round(((alim_mondiale_tot / dispo_int_tot)*100),2)\n",
    "print(part_alim_mondiale, \"% de la disponibilité intérieure mondiale est attribuée à l'alimentation humaine.\")"
   ]
  },
  {
   "cell_type": "markdown",
   "id": "698d2427",
   "metadata": {},
   "source": [
    "### 3.3.4. Répartition mondiale de la disponibilité intérieure <a class=\"anchor\" id=\"section_3.3.4.\"></a>"
   ]
  },
  {
   "cell_type": "code",
   "execution_count": 92,
   "id": "6e779c4c",
   "metadata": {},
   "outputs": [
    {
     "data": {
      "image/png": "[encoded data removed]",
      "text/plain": [
       "<Figure size 1000x600 with 1 Axes>"
      ]
     },
     "metadata": {},
     "output_type": "display_data"
    }
   ],
   "source": [
    "# Diagramme circulaire montrant la répartition mondiale de la disponibilité intérieure :\n",
    "repartition = [\"Alimentation animale\", part_alim_animale], [\"Perte\", part_perte_mondiale], [\"Alimentation humaine\", part_alim_mondiale], [\"Autres\", round((100 - part_alim_animale - part_alim_mondiale - part_perte_mondiale),2)]\n",
    "dfrep = pd.DataFrame(repartition,columns=[\"Nom\",\"Part\"])\n",
    "plt.figure(figsize=(10,6))\n",
    "plt.pie(x=dfrep[\"Part\"], labels=dfrep[\"Nom\"], autopct=\"%.f%%\")\n",
    "plt.title(\"Répartition de la disponibilité intérieure\", fontsize = 12, fontweight=\"bold\")\n",
    "plt.show()"
   ]
  },
  {
   "cell_type": "markdown",
   "id": "9fda292c",
   "metadata": {},
   "source": [
    "# 4. Analyses pour Mélanie <a class=\"anchor\" id=\"chapitre4\"></a>"
   ]
  },
  {
   "cell_type": "markdown",
   "id": "7c31620c",
   "metadata": {},
   "source": [
    "## 4.1. Requête 1 : *Pays pour lesquels la proportion de personnes en état de sous-nutrition est la plus forte en 2017* <a class=\"anchor\" id=\"section_4.1.\"></a>"
   ]
  },
  {
   "cell_type": "code",
   "execution_count": 54,
   "id": "d7d77fc3",
   "metadata": {},
   "outputs": [
    {
     "data": {
      "text/html": [
       "<div>\n",
       "<style scoped>\n",
       "    .dataframe tbody tr th:only-of-type {\n",
       "        vertical-align: middle;\n",
       "    }\n",
       "\n",
       "    .dataframe tbody tr th {\n",
       "        vertical-align: top;\n",
       "    }\n",
       "\n",
       "    .dataframe thead th {\n",
       "        text-align: right;\n",
       "    }\n",
       "</style>\n",
       "<table border=\"1\" class=\"dataframe\">\n",
       "  <thead>\n",
       "    <tr style=\"text-align: right;\">\n",
       "      <th></th>\n",
       "      <th>Zone</th>\n",
       "      <th>Population</th>\n",
       "      <th>Population en sous nutrition</th>\n",
       "    </tr>\n",
       "  </thead>\n",
       "  <tbody>\n",
       "    <tr>\n",
       "      <th>0</th>\n",
       "      <td>Afghanistan</td>\n",
       "      <td>36296113</td>\n",
       "      <td>10500000</td>\n",
       "    </tr>\n",
       "    <tr>\n",
       "      <th>1</th>\n",
       "      <td>Afrique du Sud</td>\n",
       "      <td>57009756</td>\n",
       "      <td>3100000</td>\n",
       "    </tr>\n",
       "    <tr>\n",
       "      <th>2</th>\n",
       "      <td>Albanie</td>\n",
       "      <td>2884169</td>\n",
       "      <td>100000</td>\n",
       "    </tr>\n",
       "    <tr>\n",
       "      <th>3</th>\n",
       "      <td>Algérie</td>\n",
       "      <td>41389189</td>\n",
       "      <td>1300000</td>\n",
       "    </tr>\n",
       "    <tr>\n",
       "      <th>4</th>\n",
       "      <td>Allemagne</td>\n",
       "      <td>82658409</td>\n",
       "      <td>0</td>\n",
       "    </tr>\n",
       "  </tbody>\n",
       "</table>\n",
       "</div>"
      ],
      "text/plain": [
       "             Zone  Population  Population en sous nutrition\n",
       "0     Afghanistan    36296113                      10500000\n",
       "1  Afrique du Sud    57009756                       3100000\n",
       "2         Albanie     2884169                        100000\n",
       "3         Algérie    41389189                       1300000\n",
       "4       Allemagne    82658409                             0"
      ]
     },
     "execution_count": 54,
     "metadata": {},
     "output_type": "execute_result"
    }
   ],
   "source": [
    "# Filtrage pour ne garder que 2017 et ajout de la population de chaque pays :\n",
    "df_sous_nut_2017 = df_sous_nut.loc[df_sous_nut[\"Année\"] == 2017,[\"Zone\",\"Population en sous nutrition\"]]\n",
    "df_sous_nut_2017 = pd.merge(df_pop.loc[df_pop[\"Année\"] == 2017, [\"Zone\",\"Population\"]], df_sous_nut_2017, on=\"Zone\")\n",
    "df_sous_nut_2017.head()"
   ]
  },
  {
   "cell_type": "code",
   "execution_count": 55,
   "id": "7e1ab552",
   "metadata": {},
   "outputs": [],
   "source": [
    "# Ajout d'une variable \"% de la population en sous-nutrition\" :\n",
    "df_sous_nut_2017[\"% de la population en sous nutrition\"] = round(((df_sous_nut_2017[\"Population en sous nutrition\"] / df_sous_nut_2017[\"Population\"])*100),2)"
   ]
  },
  {
   "cell_type": "code",
   "execution_count": 56,
   "id": "b8d6f902",
   "metadata": {},
   "outputs": [],
   "source": [
    "df_sous_nut_2017[\"Part de la population mondiale en sous nutrition\"] = round(((df_sous_nut_2017[\"Population en sous nutrition\"] / nbr_pers_sous_nutrition)*100),2)"
   ]
  },
  {
   "cell_type": "code",
   "execution_count": 57,
   "id": "75ead8d9",
   "metadata": {},
   "outputs": [],
   "source": [
    "# Classement des 10 pays ou la part de la population en sous-nutrition est la plus forte :\n",
    "df_sous_nut_2017 = df_sous_nut_2017.sort_values(\"% de la population en sous nutrition\", ascending = False).head(10)"
   ]
  },
  {
   "cell_type": "code",
   "execution_count": 58,
   "id": "8d75cfb7",
   "metadata": {},
   "outputs": [
    {
     "data": {
      "text/html": [
       "<div>\n",
       "<style scoped>\n",
       "    .dataframe tbody tr th:only-of-type {\n",
       "        vertical-align: middle;\n",
       "    }\n",
       "\n",
       "    .dataframe tbody tr th {\n",
       "        vertical-align: top;\n",
       "    }\n",
       "\n",
       "    .dataframe thead th {\n",
       "        text-align: right;\n",
       "    }\n",
       "</style>\n",
       "<table border=\"1\" class=\"dataframe\">\n",
       "  <thead>\n",
       "    <tr style=\"text-align: right;\">\n",
       "      <th></th>\n",
       "      <th>Zone</th>\n",
       "      <th>Population</th>\n",
       "      <th>Population en sous nutrition</th>\n",
       "      <th>% de la population en sous nutrition</th>\n",
       "      <th>Part de la population mondiale en sous nutrition</th>\n",
       "    </tr>\n",
       "  </thead>\n",
       "  <tbody>\n",
       "    <tr>\n",
       "      <th>0</th>\n",
       "      <td>Haïti</td>\n",
       "      <td>10982366</td>\n",
       "      <td>5300000</td>\n",
       "      <td>48.26</td>\n",
       "      <td>0.99</td>\n",
       "    </tr>\n",
       "    <tr>\n",
       "      <th>1</th>\n",
       "      <td>République populaire démocratique de Corée</td>\n",
       "      <td>25429825</td>\n",
       "      <td>12000000</td>\n",
       "      <td>47.19</td>\n",
       "      <td>2.24</td>\n",
       "    </tr>\n",
       "    <tr>\n",
       "      <th>2</th>\n",
       "      <td>Madagascar</td>\n",
       "      <td>25570512</td>\n",
       "      <td>10500000</td>\n",
       "      <td>41.06</td>\n",
       "      <td>1.96</td>\n",
       "    </tr>\n",
       "    <tr>\n",
       "      <th>3</th>\n",
       "      <td>Libéria</td>\n",
       "      <td>4702226</td>\n",
       "      <td>1800000</td>\n",
       "      <td>38.28</td>\n",
       "      <td>0.34</td>\n",
       "    </tr>\n",
       "    <tr>\n",
       "      <th>4</th>\n",
       "      <td>Lesotho</td>\n",
       "      <td>2091534</td>\n",
       "      <td>800000</td>\n",
       "      <td>38.25</td>\n",
       "      <td>0.15</td>\n",
       "    </tr>\n",
       "    <tr>\n",
       "      <th>5</th>\n",
       "      <td>Tchad</td>\n",
       "      <td>15016753</td>\n",
       "      <td>5700000</td>\n",
       "      <td>37.96</td>\n",
       "      <td>1.06</td>\n",
       "    </tr>\n",
       "    <tr>\n",
       "      <th>6</th>\n",
       "      <td>Rwanda</td>\n",
       "      <td>11980961</td>\n",
       "      <td>4200000</td>\n",
       "      <td>35.06</td>\n",
       "      <td>0.78</td>\n",
       "    </tr>\n",
       "    <tr>\n",
       "      <th>7</th>\n",
       "      <td>Mozambique</td>\n",
       "      <td>28649018</td>\n",
       "      <td>9400000</td>\n",
       "      <td>32.81</td>\n",
       "      <td>1.75</td>\n",
       "    </tr>\n",
       "    <tr>\n",
       "      <th>8</th>\n",
       "      <td>Timor-Leste</td>\n",
       "      <td>1243258</td>\n",
       "      <td>400000</td>\n",
       "      <td>32.17</td>\n",
       "      <td>0.07</td>\n",
       "    </tr>\n",
       "    <tr>\n",
       "      <th>9</th>\n",
       "      <td>Afghanistan</td>\n",
       "      <td>36296113</td>\n",
       "      <td>10500000</td>\n",
       "      <td>28.93</td>\n",
       "      <td>1.96</td>\n",
       "    </tr>\n",
       "  </tbody>\n",
       "</table>\n",
       "</div>"
      ],
      "text/plain": [
       "                                         Zone  Population  \\\n",
       "0                                       Haïti    10982366   \n",
       "1  République populaire démocratique de Corée    25429825   \n",
       "2                                  Madagascar    25570512   \n",
       "3                                     Libéria     4702226   \n",
       "4                                     Lesotho     2091534   \n",
       "5                                       Tchad    15016753   \n",
       "6                                      Rwanda    11980961   \n",
       "7                                  Mozambique    28649018   \n",
       "8                                 Timor-Leste     1243258   \n",
       "9                                 Afghanistan    36296113   \n",
       "\n",
       "   Population en sous nutrition  % de la population en sous nutrition  \\\n",
       "0                       5300000                                 48.26   \n",
       "1                      12000000                                 47.19   \n",
       "2                      10500000                                 41.06   \n",
       "3                       1800000                                 38.28   \n",
       "4                        800000                                 38.25   \n",
       "5                       5700000                                 37.96   \n",
       "6                       4200000                                 35.06   \n",
       "7                       9400000                                 32.81   \n",
       "8                        400000                                 32.17   \n",
       "9                      10500000                                 28.93   \n",
       "\n",
       "   Part de la population mondiale en sous nutrition  \n",
       "0                                              0.99  \n",
       "1                                              2.24  \n",
       "2                                              1.96  \n",
       "3                                              0.34  \n",
       "4                                              0.15  \n",
       "5                                              1.06  \n",
       "6                                              0.78  \n",
       "7                                              1.75  \n",
       "8                                              0.07  \n",
       "9                                              1.96  "
      ]
     },
     "execution_count": 58,
     "metadata": {},
     "output_type": "execute_result"
    }
   ],
   "source": [
    "df_sous_nut_2017.reset_index(drop=True)"
   ]
  },
  {
   "cell_type": "code",
   "execution_count": 95,
   "id": "3b2a77dd",
   "metadata": {},
   "outputs": [
    {
     "data": {
      "image/png": "[encoded data removed]",
      "text/plain": [
       "<Figure size 1200x600 with 1 Axes>"
      ]
     },
     "metadata": {},
     "output_type": "display_data"
    }
   ],
   "source": [
    "# Diagramme à bâtons montrant les 10 pays ou la part de la population en sous nutrition est la plus élevée en 2017 :\n",
    "plt.figure(figsize=(12,6))\n",
    "sns.barplot(y=df_sous_nut_2017['Zone'], x=df_sous_nut_2017[\"% de la population en sous nutrition\"], color=\"gray\", label=\"% de la population nationale\")\n",
    "sns.barplot(y=df_sous_nut_2017['Zone'], x=df_sous_nut_2017[\"Part de la population mondiale en sous nutrition\"], color=\"blue\", label=\"% de la population mondiale\")\n",
    "plt.title(\"Les 10 pays ou la part de la population en sous nutrition est la plus élevée en 2017\", fontsize = 12, fontweight=\"bold\")\n",
    "plt.xlabel(\"Population en sous nutrition (%)\")\n",
    "plt.ylabel(\"\")\n",
    "plt.legend()\n",
    "plt.show()"
   ]
  },
  {
   "cell_type": "markdown",
   "id": "53741cfd",
   "metadata": {},
   "source": [
    "## 4.2. Requête 2 : *Pays qui ont le plus bénéficiés d'aides depuis 2013* <a class=\"anchor\" id=\"section_4.2.\"></a>"
   ]
  },
  {
   "cell_type": "code",
   "execution_count": 93,
   "id": "481cc002",
   "metadata": {},
   "outputs": [],
   "source": [
    "# Regroupement l'aide totale par pays et par année (en tonnes) :\n",
    "df_aide_alim_pays = df_aide_alim.groupby([\"Zone\",\"Année\"],as_index=False).sum()"
   ]
  },
  {
   "cell_type": "code",
   "execution_count": 61,
   "id": "2c9450bd",
   "metadata": {},
   "outputs": [
    {
     "data": {
      "text/html": [
       "<div>\n",
       "<style scoped>\n",
       "    .dataframe tbody tr th:only-of-type {\n",
       "        vertical-align: middle;\n",
       "    }\n",
       "\n",
       "    .dataframe tbody tr th {\n",
       "        vertical-align: top;\n",
       "    }\n",
       "\n",
       "    .dataframe thead th {\n",
       "        text-align: right;\n",
       "    }\n",
       "</style>\n",
       "<table border=\"1\" class=\"dataframe\">\n",
       "  <thead>\n",
       "    <tr style=\"text-align: right;\">\n",
       "      <th></th>\n",
       "      <th>Zone</th>\n",
       "      <th>Année</th>\n",
       "      <th>Valeur</th>\n",
       "    </tr>\n",
       "  </thead>\n",
       "  <tbody>\n",
       "    <tr>\n",
       "      <th>0</th>\n",
       "      <td>Afghanistan</td>\n",
       "      <td>2013</td>\n",
       "      <td>128238</td>\n",
       "    </tr>\n",
       "    <tr>\n",
       "      <th>1</th>\n",
       "      <td>Afghanistan</td>\n",
       "      <td>2014</td>\n",
       "      <td>57214</td>\n",
       "    </tr>\n",
       "    <tr>\n",
       "      <th>2</th>\n",
       "      <td>Algérie</td>\n",
       "      <td>2013</td>\n",
       "      <td>35234</td>\n",
       "    </tr>\n",
       "    <tr>\n",
       "      <th>3</th>\n",
       "      <td>Algérie</td>\n",
       "      <td>2014</td>\n",
       "      <td>18980</td>\n",
       "    </tr>\n",
       "    <tr>\n",
       "      <th>4</th>\n",
       "      <td>Algérie</td>\n",
       "      <td>2015</td>\n",
       "      <td>17424</td>\n",
       "    </tr>\n",
       "  </tbody>\n",
       "</table>\n",
       "</div>"
      ],
      "text/plain": [
       "          Zone  Année  Valeur\n",
       "0  Afghanistan   2013  128238\n",
       "1  Afghanistan   2014   57214\n",
       "2      Algérie   2013   35234\n",
       "3      Algérie   2014   18980\n",
       "4      Algérie   2015   17424"
      ]
     },
     "execution_count": 61,
     "metadata": {},
     "output_type": "execute_result"
    }
   ],
   "source": [
    "df_aide_alim_pays.head()"
   ]
  },
  {
   "cell_type": "code",
   "execution_count": 94,
   "id": "7f8d7813",
   "metadata": {},
   "outputs": [
    {
     "data": {
      "text/html": [
       "<div>\n",
       "<style scoped>\n",
       "    .dataframe tbody tr th:only-of-type {\n",
       "        vertical-align: middle;\n",
       "    }\n",
       "\n",
       "    .dataframe tbody tr th {\n",
       "        vertical-align: top;\n",
       "    }\n",
       "\n",
       "    .dataframe thead th {\n",
       "        text-align: right;\n",
       "    }\n",
       "</style>\n",
       "<table border=\"1\" class=\"dataframe\">\n",
       "  <thead>\n",
       "    <tr style=\"text-align: right;\">\n",
       "      <th></th>\n",
       "      <th>Zone</th>\n",
       "      <th>Valeur</th>\n",
       "    </tr>\n",
       "  </thead>\n",
       "  <tbody>\n",
       "    <tr>\n",
       "      <th>50</th>\n",
       "      <td>République arabe syrienne</td>\n",
       "      <td>1858943</td>\n",
       "    </tr>\n",
       "    <tr>\n",
       "      <th>75</th>\n",
       "      <td>Éthiopie</td>\n",
       "      <td>1381294</td>\n",
       "    </tr>\n",
       "    <tr>\n",
       "      <th>70</th>\n",
       "      <td>Yémen</td>\n",
       "      <td>1206484</td>\n",
       "    </tr>\n",
       "    <tr>\n",
       "      <th>61</th>\n",
       "      <td>Soudan du Sud</td>\n",
       "      <td>695248</td>\n",
       "    </tr>\n",
       "    <tr>\n",
       "      <th>60</th>\n",
       "      <td>Soudan</td>\n",
       "      <td>669784</td>\n",
       "    </tr>\n",
       "    <tr>\n",
       "      <th>30</th>\n",
       "      <td>Kenya</td>\n",
       "      <td>552836</td>\n",
       "    </tr>\n",
       "    <tr>\n",
       "      <th>3</th>\n",
       "      <td>Bangladesh</td>\n",
       "      <td>348188</td>\n",
       "    </tr>\n",
       "    <tr>\n",
       "      <th>59</th>\n",
       "      <td>Somalie</td>\n",
       "      <td>292678</td>\n",
       "    </tr>\n",
       "    <tr>\n",
       "      <th>53</th>\n",
       "      <td>République démocratique du Congo</td>\n",
       "      <td>288502</td>\n",
       "    </tr>\n",
       "    <tr>\n",
       "      <th>43</th>\n",
       "      <td>Niger</td>\n",
       "      <td>276344</td>\n",
       "    </tr>\n",
       "  </tbody>\n",
       "</table>\n",
       "</div>"
      ],
      "text/plain": [
       "                                Zone   Valeur\n",
       "50         République arabe syrienne  1858943\n",
       "75                          Éthiopie  1381294\n",
       "70                             Yémen  1206484\n",
       "61                     Soudan du Sud   695248\n",
       "60                            Soudan   669784\n",
       "30                             Kenya   552836\n",
       "3                         Bangladesh   348188\n",
       "59                           Somalie   292678\n",
       "53  République démocratique du Congo   288502\n",
       "43                             Niger   276344"
      ]
     },
     "execution_count": 94,
     "metadata": {},
     "output_type": "execute_result"
    }
   ],
   "source": [
    "# Classement des 10 pays qui ont le plus reçu d'aide alimentaire (en tonnes) depuis 2013 :\n",
    "df_aide_alim_tot_pays = df_aide_alim.groupby(\"Zone\", as_index=False).sum().sort_values(\"Valeur\", ascending = False).nlargest(10, \"Valeur\").drop(\"Année\", axis=1)\n",
    "df_aide_alim_tot_pays.head(10)"
   ]
  },
  {
   "cell_type": "code",
   "execution_count": 96,
   "id": "65c4ef1b",
   "metadata": {},
   "outputs": [
    {
     "data": {
      "image/png": "[encoded data removed]",
      "text/plain": [
       "<Figure size 1200x600 with 1 Axes>"
      ]
     },
     "metadata": {},
     "output_type": "display_data"
    }
   ],
   "source": [
    "# Diagramme à bâtons montrant les 10 pays qui ont le plus reçu d'aide alimentaire depuis 2013 :\n",
    "plt.figure(figsize=(12, 6))\n",
    "sns.barplot(x=df_aide_alim_tot_pays[\"Valeur\"], y=df_aide_alim_tot_pays['Zone'], color=\"gray\", label=\"Valeur\", ci=None)\n",
    "plt.title(\"Les 10 pays qui ont reçu le plus d'aide alimentaire depuis 2013\", fontsize = 12, fontweight=\"bold\")\n",
    "plt.xlabel(\"Aide alimentaire (en millions de tonnes)\")\n",
    "plt.ylabel(\"\")\n",
    "plt.show()"
   ]
  },
  {
   "cell_type": "markdown",
   "id": "ecfa9f4c",
   "metadata": {},
   "source": [
    "## 4.3. Requête 3 : *Pays qui ont le plus de disponibilité alimentaire par habitant* <a class=\"anchor\" id=\"section_4.3.\"></a>"
   ]
  },
  {
   "cell_type": "code",
   "execution_count": 64,
   "id": "e152d517",
   "metadata": {},
   "outputs": [],
   "source": [
    "# Filtrage du df_dispo_alim pour ne conserver que les variables qui concernent la disponibilité alimentaire\n",
    "df_dispo_alim_hab = df_dispo_alim.groupby(\"Zone\")[[\"Disponibilité alimentaire (Kcal/personne/jour)\",\"Disponibilité de matière grasse en quantité (g/personne/jour)\",\"Disponibilité de protéines en quantité (g/personne/jour)\",\"Disponibilité alimentaire en quantité (kg/personne/an)\"]].sum()"
   ]
  },
  {
   "cell_type": "markdown",
   "id": "85ea3567",
   "metadata": {},
   "source": [
    "### 4.3.1. Disponibilité alimentaire en kcal <a class=\"anchor\" id=\"section_4.3.1.\"></a>"
   ]
  },
  {
   "cell_type": "code",
   "execution_count": 65,
   "id": "5ab8153a",
   "metadata": {},
   "outputs": [
    {
     "data": {
      "text/html": [
       "<div>\n",
       "<style scoped>\n",
       "    .dataframe tbody tr th:only-of-type {\n",
       "        vertical-align: middle;\n",
       "    }\n",
       "\n",
       "    .dataframe tbody tr th {\n",
       "        vertical-align: top;\n",
       "    }\n",
       "\n",
       "    .dataframe thead th {\n",
       "        text-align: right;\n",
       "    }\n",
       "</style>\n",
       "<table border=\"1\" class=\"dataframe\">\n",
       "  <thead>\n",
       "    <tr style=\"text-align: right;\">\n",
       "      <th></th>\n",
       "      <th>Disponibilité alimentaire (Kcal/personne/jour)</th>\n",
       "      <th>Disponibilité de matière grasse en quantité (g/personne/jour)</th>\n",
       "      <th>Disponibilité de protéines en quantité (g/personne/jour)</th>\n",
       "      <th>Disponibilité alimentaire en quantité (kg/personne/an)</th>\n",
       "    </tr>\n",
       "    <tr>\n",
       "      <th>Zone</th>\n",
       "      <th></th>\n",
       "      <th></th>\n",
       "      <th></th>\n",
       "      <th></th>\n",
       "    </tr>\n",
       "  </thead>\n",
       "  <tbody>\n",
       "    <tr>\n",
       "      <th>Autriche</th>\n",
       "      <td>3770.0</td>\n",
       "      <td>170.44</td>\n",
       "      <td>106.20</td>\n",
       "      <td>1069.20</td>\n",
       "    </tr>\n",
       "    <tr>\n",
       "      <th>Belgique</th>\n",
       "      <td>3737.0</td>\n",
       "      <td>161.95</td>\n",
       "      <td>99.37</td>\n",
       "      <td>1002.09</td>\n",
       "    </tr>\n",
       "    <tr>\n",
       "      <th>Turquie</th>\n",
       "      <td>3708.0</td>\n",
       "      <td>119.64</td>\n",
       "      <td>108.12</td>\n",
       "      <td>968.15</td>\n",
       "    </tr>\n",
       "    <tr>\n",
       "      <th>États-Unis d'Amérique</th>\n",
       "      <td>3682.0</td>\n",
       "      <td>161.37</td>\n",
       "      <td>109.42</td>\n",
       "      <td>1002.39</td>\n",
       "    </tr>\n",
       "    <tr>\n",
       "      <th>Israël</th>\n",
       "      <td>3610.0</td>\n",
       "      <td>151.39</td>\n",
       "      <td>128.00</td>\n",
       "      <td>922.14</td>\n",
       "    </tr>\n",
       "    <tr>\n",
       "      <th>Irlande</th>\n",
       "      <td>3602.0</td>\n",
       "      <td>125.69</td>\n",
       "      <td>109.91</td>\n",
       "      <td>1150.15</td>\n",
       "    </tr>\n",
       "    <tr>\n",
       "      <th>Italie</th>\n",
       "      <td>3578.0</td>\n",
       "      <td>154.69</td>\n",
       "      <td>108.49</td>\n",
       "      <td>993.20</td>\n",
       "    </tr>\n",
       "    <tr>\n",
       "      <th>Luxembourg</th>\n",
       "      <td>3540.0</td>\n",
       "      <td>141.49</td>\n",
       "      <td>113.64</td>\n",
       "      <td>1150.66</td>\n",
       "    </tr>\n",
       "    <tr>\n",
       "      <th>Égypte</th>\n",
       "      <td>3518.0</td>\n",
       "      <td>63.09</td>\n",
       "      <td>103.22</td>\n",
       "      <td>803.79</td>\n",
       "    </tr>\n",
       "    <tr>\n",
       "      <th>Allemagne</th>\n",
       "      <td>3503.0</td>\n",
       "      <td>141.62</td>\n",
       "      <td>101.39</td>\n",
       "      <td>957.52</td>\n",
       "    </tr>\n",
       "  </tbody>\n",
       "</table>\n",
       "</div>"
      ],
      "text/plain": [
       "                       Disponibilité alimentaire (Kcal/personne/jour)  \\\n",
       "Zone                                                                    \n",
       "Autriche                                                       3770.0   \n",
       "Belgique                                                       3737.0   \n",
       "Turquie                                                        3708.0   \n",
       "États-Unis d'Amérique                                          3682.0   \n",
       "Israël                                                         3610.0   \n",
       "Irlande                                                        3602.0   \n",
       "Italie                                                         3578.0   \n",
       "Luxembourg                                                     3540.0   \n",
       "Égypte                                                         3518.0   \n",
       "Allemagne                                                      3503.0   \n",
       "\n",
       "                       Disponibilité de matière grasse en quantité (g/personne/jour)  \\\n",
       "Zone                                                                                   \n",
       "Autriche                                                          170.44               \n",
       "Belgique                                                          161.95               \n",
       "Turquie                                                           119.64               \n",
       "États-Unis d'Amérique                                             161.37               \n",
       "Israël                                                            151.39               \n",
       "Irlande                                                           125.69               \n",
       "Italie                                                            154.69               \n",
       "Luxembourg                                                        141.49               \n",
       "Égypte                                                             63.09               \n",
       "Allemagne                                                         141.62               \n",
       "\n",
       "                       Disponibilité de protéines en quantité (g/personne/jour)  \\\n",
       "Zone                                                                              \n",
       "Autriche                                                          106.20          \n",
       "Belgique                                                           99.37          \n",
       "Turquie                                                           108.12          \n",
       "États-Unis d'Amérique                                             109.42          \n",
       "Israël                                                            128.00          \n",
       "Irlande                                                           109.91          \n",
       "Italie                                                            108.49          \n",
       "Luxembourg                                                        113.64          \n",
       "Égypte                                                            103.22          \n",
       "Allemagne                                                         101.39          \n",
       "\n",
       "                       Disponibilité alimentaire en quantité (kg/personne/an)  \n",
       "Zone                                                                           \n",
       "Autriche                                                         1069.20       \n",
       "Belgique                                                         1002.09       \n",
       "Turquie                                                           968.15       \n",
       "États-Unis d'Amérique                                            1002.39       \n",
       "Israël                                                            922.14       \n",
       "Irlande                                                          1150.15       \n",
       "Italie                                                            993.20       \n",
       "Luxembourg                                                       1150.66       \n",
       "Égypte                                                            803.79       \n",
       "Allemagne                                                         957.52       "
      ]
     },
     "execution_count": 65,
     "metadata": {},
     "output_type": "execute_result"
    }
   ],
   "source": [
    "# Classement des 10 pays qui ont le plus de disponibilité alimentaire (Kcal/jour) par habitant :\n",
    "df_dispo_alim_hab.sort_values(\"Disponibilité alimentaire (Kcal/personne/jour)\", ascending = False).head(10)"
   ]
  },
  {
   "cell_type": "markdown",
   "id": "d2c7fd69",
   "metadata": {},
   "source": [
    "### 4.3.2. Disponibilité de matière grasse en quantité <a class=\"anchor\" id=\"section_4.3.2.\"></a>"
   ]
  },
  {
   "cell_type": "code",
   "execution_count": 66,
   "id": "68e15d4e",
   "metadata": {},
   "outputs": [
    {
     "data": {
      "text/html": [
       "<div>\n",
       "<style scoped>\n",
       "    .dataframe tbody tr th:only-of-type {\n",
       "        vertical-align: middle;\n",
       "    }\n",
       "\n",
       "    .dataframe tbody tr th {\n",
       "        vertical-align: top;\n",
       "    }\n",
       "\n",
       "    .dataframe thead th {\n",
       "        text-align: right;\n",
       "    }\n",
       "</style>\n",
       "<table border=\"1\" class=\"dataframe\">\n",
       "  <thead>\n",
       "    <tr style=\"text-align: right;\">\n",
       "      <th></th>\n",
       "      <th>Disponibilité alimentaire (Kcal/personne/jour)</th>\n",
       "      <th>Disponibilité de matière grasse en quantité (g/personne/jour)</th>\n",
       "      <th>Disponibilité de protéines en quantité (g/personne/jour)</th>\n",
       "      <th>Disponibilité alimentaire en quantité (kg/personne/an)</th>\n",
       "    </tr>\n",
       "    <tr>\n",
       "      <th>Zone</th>\n",
       "      <th></th>\n",
       "      <th></th>\n",
       "      <th></th>\n",
       "      <th></th>\n",
       "    </tr>\n",
       "  </thead>\n",
       "  <tbody>\n",
       "    <tr>\n",
       "      <th>Autriche</th>\n",
       "      <td>3770.0</td>\n",
       "      <td>170.44</td>\n",
       "      <td>106.20</td>\n",
       "      <td>1069.20</td>\n",
       "    </tr>\n",
       "    <tr>\n",
       "      <th>Belgique</th>\n",
       "      <td>3737.0</td>\n",
       "      <td>161.95</td>\n",
       "      <td>99.37</td>\n",
       "      <td>1002.09</td>\n",
       "    </tr>\n",
       "    <tr>\n",
       "      <th>États-Unis d'Amérique</th>\n",
       "      <td>3682.0</td>\n",
       "      <td>161.37</td>\n",
       "      <td>109.42</td>\n",
       "      <td>1002.39</td>\n",
       "    </tr>\n",
       "    <tr>\n",
       "      <th>France</th>\n",
       "      <td>3482.0</td>\n",
       "      <td>159.15</td>\n",
       "      <td>110.50</td>\n",
       "      <td>937.43</td>\n",
       "    </tr>\n",
       "    <tr>\n",
       "      <th>Italie</th>\n",
       "      <td>3578.0</td>\n",
       "      <td>154.69</td>\n",
       "      <td>108.49</td>\n",
       "      <td>993.20</td>\n",
       "    </tr>\n",
       "    <tr>\n",
       "      <th>Suisse</th>\n",
       "      <td>3393.0</td>\n",
       "      <td>153.35</td>\n",
       "      <td>92.89</td>\n",
       "      <td>989.35</td>\n",
       "    </tr>\n",
       "    <tr>\n",
       "      <th>Israël</th>\n",
       "      <td>3610.0</td>\n",
       "      <td>151.39</td>\n",
       "      <td>128.00</td>\n",
       "      <td>922.14</td>\n",
       "    </tr>\n",
       "    <tr>\n",
       "      <th>Islande</th>\n",
       "      <td>3381.0</td>\n",
       "      <td>151.35</td>\n",
       "      <td>133.06</td>\n",
       "      <td>923.29</td>\n",
       "    </tr>\n",
       "    <tr>\n",
       "      <th>Australie</th>\n",
       "      <td>3278.0</td>\n",
       "      <td>150.81</td>\n",
       "      <td>106.26</td>\n",
       "      <td>941.76</td>\n",
       "    </tr>\n",
       "    <tr>\n",
       "      <th>Norvège</th>\n",
       "      <td>3483.0</td>\n",
       "      <td>148.96</td>\n",
       "      <td>110.73</td>\n",
       "      <td>962.06</td>\n",
       "    </tr>\n",
       "  </tbody>\n",
       "</table>\n",
       "</div>"
      ],
      "text/plain": [
       "                       Disponibilité alimentaire (Kcal/personne/jour)  \\\n",
       "Zone                                                                    \n",
       "Autriche                                                       3770.0   \n",
       "Belgique                                                       3737.0   \n",
       "États-Unis d'Amérique                                          3682.0   \n",
       "France                                                         3482.0   \n",
       "Italie                                                         3578.0   \n",
       "Suisse                                                         3393.0   \n",
       "Israël                                                         3610.0   \n",
       "Islande                                                        3381.0   \n",
       "Australie                                                      3278.0   \n",
       "Norvège                                                        3483.0   \n",
       "\n",
       "                       Disponibilité de matière grasse en quantité (g/personne/jour)  \\\n",
       "Zone                                                                                   \n",
       "Autriche                                                          170.44               \n",
       "Belgique                                                          161.95               \n",
       "États-Unis d'Amérique                                             161.37               \n",
       "France                                                            159.15               \n",
       "Italie                                                            154.69               \n",
       "Suisse                                                            153.35               \n",
       "Israël                                                            151.39               \n",
       "Islande                                                           151.35               \n",
       "Australie                                                         150.81               \n",
       "Norvège                                                           148.96               \n",
       "\n",
       "                       Disponibilité de protéines en quantité (g/personne/jour)  \\\n",
       "Zone                                                                              \n",
       "Autriche                                                          106.20          \n",
       "Belgique                                                           99.37          \n",
       "États-Unis d'Amérique                                             109.42          \n",
       "France                                                            110.50          \n",
       "Italie                                                            108.49          \n",
       "Suisse                                                             92.89          \n",
       "Israël                                                            128.00          \n",
       "Islande                                                           133.06          \n",
       "Australie                                                         106.26          \n",
       "Norvège                                                           110.73          \n",
       "\n",
       "                       Disponibilité alimentaire en quantité (kg/personne/an)  \n",
       "Zone                                                                           \n",
       "Autriche                                                         1069.20       \n",
       "Belgique                                                         1002.09       \n",
       "États-Unis d'Amérique                                            1002.39       \n",
       "France                                                            937.43       \n",
       "Italie                                                            993.20       \n",
       "Suisse                                                            989.35       \n",
       "Israël                                                            922.14       \n",
       "Islande                                                           923.29       \n",
       "Australie                                                         941.76       \n",
       "Norvège                                                           962.06       "
      ]
     },
     "execution_count": 66,
     "metadata": {},
     "output_type": "execute_result"
    }
   ],
   "source": [
    "# Classement avec la disponibilité de matière grasse en quantité (g/personne/jour) :\n",
    "df_dispo_alim_hab.sort_values(\"Disponibilité de matière grasse en quantité (g/personne/jour)\", ascending = False).head(10)"
   ]
  },
  {
   "cell_type": "markdown",
   "id": "1d478931",
   "metadata": {},
   "source": [
    "### 4.3.3. Disponibilité de protéines en quantité <a class=\"anchor\" id=\"section_4.3.3.\"></a>"
   ]
  },
  {
   "cell_type": "code",
   "execution_count": 67,
   "id": "ef8278ef",
   "metadata": {},
   "outputs": [
    {
     "data": {
      "text/html": [
       "<div>\n",
       "<style scoped>\n",
       "    .dataframe tbody tr th:only-of-type {\n",
       "        vertical-align: middle;\n",
       "    }\n",
       "\n",
       "    .dataframe tbody tr th {\n",
       "        vertical-align: top;\n",
       "    }\n",
       "\n",
       "    .dataframe thead th {\n",
       "        text-align: right;\n",
       "    }\n",
       "</style>\n",
       "<table border=\"1\" class=\"dataframe\">\n",
       "  <thead>\n",
       "    <tr style=\"text-align: right;\">\n",
       "      <th></th>\n",
       "      <th>Disponibilité alimentaire (Kcal/personne/jour)</th>\n",
       "      <th>Disponibilité de matière grasse en quantité (g/personne/jour)</th>\n",
       "      <th>Disponibilité de protéines en quantité (g/personne/jour)</th>\n",
       "      <th>Disponibilité alimentaire en quantité (kg/personne/an)</th>\n",
       "    </tr>\n",
       "    <tr>\n",
       "      <th>Zone</th>\n",
       "      <th></th>\n",
       "      <th></th>\n",
       "      <th></th>\n",
       "      <th></th>\n",
       "    </tr>\n",
       "  </thead>\n",
       "  <tbody>\n",
       "    <tr>\n",
       "      <th>Islande</th>\n",
       "      <td>3381.0</td>\n",
       "      <td>151.35</td>\n",
       "      <td>133.06</td>\n",
       "      <td>923.29</td>\n",
       "    </tr>\n",
       "    <tr>\n",
       "      <th>Chine - RAS de Hong-Kong</th>\n",
       "      <td>3286.0</td>\n",
       "      <td>139.82</td>\n",
       "      <td>129.07</td>\n",
       "      <td>802.17</td>\n",
       "    </tr>\n",
       "    <tr>\n",
       "      <th>Israël</th>\n",
       "      <td>3610.0</td>\n",
       "      <td>151.39</td>\n",
       "      <td>128.00</td>\n",
       "      <td>922.14</td>\n",
       "    </tr>\n",
       "    <tr>\n",
       "      <th>Lituanie</th>\n",
       "      <td>3414.0</td>\n",
       "      <td>94.44</td>\n",
       "      <td>124.36</td>\n",
       "      <td>1050.07</td>\n",
       "    </tr>\n",
       "    <tr>\n",
       "      <th>Maldives</th>\n",
       "      <td>2733.0</td>\n",
       "      <td>62.93</td>\n",
       "      <td>122.32</td>\n",
       "      <td>821.36</td>\n",
       "    </tr>\n",
       "    <tr>\n",
       "      <th>Finlande</th>\n",
       "      <td>3366.0</td>\n",
       "      <td>140.02</td>\n",
       "      <td>117.56</td>\n",
       "      <td>1093.77</td>\n",
       "    </tr>\n",
       "    <tr>\n",
       "      <th>Luxembourg</th>\n",
       "      <td>3540.0</td>\n",
       "      <td>141.49</td>\n",
       "      <td>113.64</td>\n",
       "      <td>1150.66</td>\n",
       "    </tr>\n",
       "    <tr>\n",
       "      <th>Monténégro</th>\n",
       "      <td>3490.0</td>\n",
       "      <td>131.66</td>\n",
       "      <td>111.90</td>\n",
       "      <td>1210.41</td>\n",
       "    </tr>\n",
       "    <tr>\n",
       "      <th>Pays-Bas</th>\n",
       "      <td>3222.0</td>\n",
       "      <td>125.30</td>\n",
       "      <td>111.46</td>\n",
       "      <td>1069.22</td>\n",
       "    </tr>\n",
       "    <tr>\n",
       "      <th>Albanie</th>\n",
       "      <td>3188.0</td>\n",
       "      <td>106.48</td>\n",
       "      <td>111.37</td>\n",
       "      <td>1095.54</td>\n",
       "    </tr>\n",
       "  </tbody>\n",
       "</table>\n",
       "</div>"
      ],
      "text/plain": [
       "                          Disponibilité alimentaire (Kcal/personne/jour)  \\\n",
       "Zone                                                                       \n",
       "Islande                                                           3381.0   \n",
       "Chine - RAS de Hong-Kong                                          3286.0   \n",
       "Israël                                                            3610.0   \n",
       "Lituanie                                                          3414.0   \n",
       "Maldives                                                          2733.0   \n",
       "Finlande                                                          3366.0   \n",
       "Luxembourg                                                        3540.0   \n",
       "Monténégro                                                        3490.0   \n",
       "Pays-Bas                                                          3222.0   \n",
       "Albanie                                                           3188.0   \n",
       "\n",
       "                          Disponibilité de matière grasse en quantité (g/personne/jour)  \\\n",
       "Zone                                                                                      \n",
       "Islande                                                              151.35               \n",
       "Chine - RAS de Hong-Kong                                             139.82               \n",
       "Israël                                                               151.39               \n",
       "Lituanie                                                              94.44               \n",
       "Maldives                                                              62.93               \n",
       "Finlande                                                             140.02               \n",
       "Luxembourg                                                           141.49               \n",
       "Monténégro                                                           131.66               \n",
       "Pays-Bas                                                             125.30               \n",
       "Albanie                                                              106.48               \n",
       "\n",
       "                          Disponibilité de protéines en quantité (g/personne/jour)  \\\n",
       "Zone                                                                                 \n",
       "Islande                                                              133.06          \n",
       "Chine - RAS de Hong-Kong                                             129.07          \n",
       "Israël                                                               128.00          \n",
       "Lituanie                                                             124.36          \n",
       "Maldives                                                             122.32          \n",
       "Finlande                                                             117.56          \n",
       "Luxembourg                                                           113.64          \n",
       "Monténégro                                                           111.90          \n",
       "Pays-Bas                                                             111.46          \n",
       "Albanie                                                              111.37          \n",
       "\n",
       "                          Disponibilité alimentaire en quantité (kg/personne/an)  \n",
       "Zone                                                                              \n",
       "Islande                                                              923.29       \n",
       "Chine - RAS de Hong-Kong                                             802.17       \n",
       "Israël                                                               922.14       \n",
       "Lituanie                                                            1050.07       \n",
       "Maldives                                                             821.36       \n",
       "Finlande                                                            1093.77       \n",
       "Luxembourg                                                          1150.66       \n",
       "Monténégro                                                          1210.41       \n",
       "Pays-Bas                                                            1069.22       \n",
       "Albanie                                                             1095.54       "
      ]
     },
     "execution_count": 67,
     "metadata": {},
     "output_type": "execute_result"
    }
   ],
   "source": [
    "# Classement avec la disponibilité de protéines en quantité (g/personne/jour) :\n",
    "df_dispo_alim_hab.sort_values(\"Disponibilité de protéines en quantité (g/personne/jour)\", ascending = False).head(10)"
   ]
  },
  {
   "cell_type": "markdown",
   "id": "e9b88dc2",
   "metadata": {},
   "source": [
    "## 4.4. Requête 4 : *Pays qui ont le moins de disponibilité alimentaire par habitant* <a class=\"anchor\" id=\"section_4.4.\"></a>"
   ]
  },
  {
   "cell_type": "code",
   "execution_count": 68,
   "id": "594d11df",
   "metadata": {},
   "outputs": [
    {
     "data": {
      "text/html": [
       "<div>\n",
       "<style scoped>\n",
       "    .dataframe tbody tr th:only-of-type {\n",
       "        vertical-align: middle;\n",
       "    }\n",
       "\n",
       "    .dataframe tbody tr th {\n",
       "        vertical-align: top;\n",
       "    }\n",
       "\n",
       "    .dataframe thead th {\n",
       "        text-align: right;\n",
       "    }\n",
       "</style>\n",
       "<table border=\"1\" class=\"dataframe\">\n",
       "  <thead>\n",
       "    <tr style=\"text-align: right;\">\n",
       "      <th></th>\n",
       "      <th>Disponibilité alimentaire (Kcal/personne/jour)</th>\n",
       "      <th>Disponibilité de matière grasse en quantité (g/personne/jour)</th>\n",
       "      <th>Disponibilité de protéines en quantité (g/personne/jour)</th>\n",
       "      <th>Disponibilité alimentaire en quantité (kg/personne/an)</th>\n",
       "    </tr>\n",
       "    <tr>\n",
       "      <th>Zone</th>\n",
       "      <th></th>\n",
       "      <th></th>\n",
       "      <th></th>\n",
       "      <th></th>\n",
       "    </tr>\n",
       "  </thead>\n",
       "  <tbody>\n",
       "    <tr>\n",
       "      <th>République centrafricaine</th>\n",
       "      <td>1879.0</td>\n",
       "      <td>59.41</td>\n",
       "      <td>46.04</td>\n",
       "      <td>453.73</td>\n",
       "    </tr>\n",
       "    <tr>\n",
       "      <th>Zambie</th>\n",
       "      <td>1924.0</td>\n",
       "      <td>42.05</td>\n",
       "      <td>55.22</td>\n",
       "      <td>350.12</td>\n",
       "    </tr>\n",
       "    <tr>\n",
       "      <th>Madagascar</th>\n",
       "      <td>2056.0</td>\n",
       "      <td>24.49</td>\n",
       "      <td>46.69</td>\n",
       "      <td>425.07</td>\n",
       "    </tr>\n",
       "    <tr>\n",
       "      <th>Afghanistan</th>\n",
       "      <td>2087.0</td>\n",
       "      <td>33.50</td>\n",
       "      <td>58.26</td>\n",
       "      <td>351.41</td>\n",
       "    </tr>\n",
       "    <tr>\n",
       "      <th>Haïti</th>\n",
       "      <td>2089.0</td>\n",
       "      <td>48.92</td>\n",
       "      <td>47.70</td>\n",
       "      <td>397.78</td>\n",
       "    </tr>\n",
       "    <tr>\n",
       "      <th>République populaire démocratique de Corée</th>\n",
       "      <td>2093.0</td>\n",
       "      <td>36.41</td>\n",
       "      <td>54.99</td>\n",
       "      <td>458.93</td>\n",
       "    </tr>\n",
       "    <tr>\n",
       "      <th>Tchad</th>\n",
       "      <td>2109.0</td>\n",
       "      <td>47.10</td>\n",
       "      <td>62.75</td>\n",
       "      <td>319.45</td>\n",
       "    </tr>\n",
       "    <tr>\n",
       "      <th>Zimbabwe</th>\n",
       "      <td>2113.0</td>\n",
       "      <td>57.18</td>\n",
       "      <td>48.32</td>\n",
       "      <td>336.59</td>\n",
       "    </tr>\n",
       "    <tr>\n",
       "      <th>Ouganda</th>\n",
       "      <td>2126.0</td>\n",
       "      <td>46.57</td>\n",
       "      <td>52.64</td>\n",
       "      <td>535.58</td>\n",
       "    </tr>\n",
       "    <tr>\n",
       "      <th>Timor-Leste</th>\n",
       "      <td>2129.0</td>\n",
       "      <td>51.08</td>\n",
       "      <td>57.51</td>\n",
       "      <td>369.10</td>\n",
       "    </tr>\n",
       "  </tbody>\n",
       "</table>\n",
       "</div>"
      ],
      "text/plain": [
       "                                            Disponibilité alimentaire (Kcal/personne/jour)  \\\n",
       "Zone                                                                                         \n",
       "République centrafricaine                                                           1879.0   \n",
       "Zambie                                                                              1924.0   \n",
       "Madagascar                                                                          2056.0   \n",
       "Afghanistan                                                                         2087.0   \n",
       "Haïti                                                                               2089.0   \n",
       "République populaire démocratique de Corée                                          2093.0   \n",
       "Tchad                                                                               2109.0   \n",
       "Zimbabwe                                                                            2113.0   \n",
       "Ouganda                                                                             2126.0   \n",
       "Timor-Leste                                                                         2129.0   \n",
       "\n",
       "                                            Disponibilité de matière grasse en quantité (g/personne/jour)  \\\n",
       "Zone                                                                                                        \n",
       "République centrafricaine                                                               59.41               \n",
       "Zambie                                                                                  42.05               \n",
       "Madagascar                                                                              24.49               \n",
       "Afghanistan                                                                             33.50               \n",
       "Haïti                                                                                   48.92               \n",
       "République populaire démocratique de Corée                                              36.41               \n",
       "Tchad                                                                                   47.10               \n",
       "Zimbabwe                                                                                57.18               \n",
       "Ouganda                                                                                 46.57               \n",
       "Timor-Leste                                                                             51.08               \n",
       "\n",
       "                                            Disponibilité de protéines en quantité (g/personne/jour)  \\\n",
       "Zone                                                                                                   \n",
       "République centrafricaine                                                               46.04          \n",
       "Zambie                                                                                  55.22          \n",
       "Madagascar                                                                              46.69          \n",
       "Afghanistan                                                                             58.26          \n",
       "Haïti                                                                                   47.70          \n",
       "République populaire démocratique de Corée                                              54.99          \n",
       "Tchad                                                                                   62.75          \n",
       "Zimbabwe                                                                                48.32          \n",
       "Ouganda                                                                                 52.64          \n",
       "Timor-Leste                                                                             57.51          \n",
       "\n",
       "                                            Disponibilité alimentaire en quantité (kg/personne/an)  \n",
       "Zone                                                                                                \n",
       "République centrafricaine                                                              453.73       \n",
       "Zambie                                                                                 350.12       \n",
       "Madagascar                                                                             425.07       \n",
       "Afghanistan                                                                            351.41       \n",
       "Haïti                                                                                  397.78       \n",
       "République populaire démocratique de Corée                                             458.93       \n",
       "Tchad                                                                                  319.45       \n",
       "Zimbabwe                                                                               336.59       \n",
       "Ouganda                                                                                535.58       \n",
       "Timor-Leste                                                                            369.10       "
      ]
     },
     "execution_count": 68,
     "metadata": {},
     "output_type": "execute_result"
    }
   ],
   "source": [
    "# Classement des 10 pays qui ont le moins de disponibilité alimentaire (Kcal/jour) par habitant :\n",
    "df_dispo_alim_hab.sort_values(\"Disponibilité alimentaire (Kcal/personne/jour)\").head(10)"
   ]
  },
  {
   "cell_type": "markdown",
   "id": "d86d701c",
   "metadata": {},
   "source": [
    "# 5. Analyses pour Julien <a class=\"anchor\" id=\"chapitre5\"></a>"
   ]
  },
  {
   "cell_type": "markdown",
   "id": "2c710fda",
   "metadata": {},
   "source": [
    "## 5.1. Dataframe \"cereales\" <a class=\"anchor\" id=\"section_5.1.\"></a>"
   ]
  },
  {
   "cell_type": "markdown",
   "id": "12eb1774",
   "metadata": {},
   "source": [
    "Liste des céréales : \"Blé\", \"Riz (Eq Blanchi)\", \"Orge\", \"Maïs\", \"Seigle\", \"Avoine\", \"Millet\", \"Sorgho\", \"Céréales, Autres\""
   ]
  },
  {
   "cell_type": "code",
   "execution_count": 97,
   "id": "b153f5ed",
   "metadata": {},
   "outputs": [],
   "source": [
    "# Liste des céréales récupérée sur le site de la FAO :\n",
    "cereales = [\"Blé\", \"Riz (Eq Blanchi)\", \"Orge\", \"Maïs\", \"Seigle\", \"Avoine\", \"Millet\", \"Sorgho\", \"Céréales, Autres\"]"
   ]
  },
  {
   "cell_type": "code",
   "execution_count": 70,
   "id": "8b844098",
   "metadata": {},
   "outputs": [
    {
     "data": {
      "text/plain": [
       "array(['Blé', 'Céréales, Autres', 'Maïs', 'Millet', 'Orge',\n",
       "       'Riz (Eq Blanchi)', 'Avoine', 'Seigle', 'Sorgho'], dtype=object)"
      ]
     },
     "execution_count": 70,
     "metadata": {},
     "output_type": "execute_result"
    }
   ],
   "source": [
    "# Création d'un dataframe de la disponibilité alimentaire pour les céréales :\n",
    "df_cereales = df_dispo_alim.loc[df_dispo_alim[\"Produit\"].isin(cereales)]\n",
    "df_cereales[\"Produit\"].unique()"
   ]
  },
  {
   "cell_type": "code",
   "execution_count": 71,
   "id": "7794c14e",
   "metadata": {},
   "outputs": [],
   "source": [
    "# Variables utilisées par la suite :\n",
    "cereales_tot = df_cereales[\"Disponibilité intérieure\"].sum()\n",
    "prod_mondiale_cereales = df_cereales[\"Production\"].sum()\n",
    "expor_mondiale_cereales = df_cereales[\"Exportations - Quantité\"].sum()\n",
    "impor_mondiale_cereales = df_cereales[\"Importations - Quantité\"].sum()\n",
    "utilisation_animale = df_cereales[\"Aliments pour animaux\"].sum()\n",
    "utilisation_humaine = df_cereales[\"Nourriture\"].sum()\n",
    "perte_mondiale_cereales = df_cereales[\"Pertes\"].sum()\n",
    "var_stock = df_cereales[\"Variation de stock\"].sum()"
   ]
  },
  {
   "cell_type": "markdown",
   "id": "0f47c024",
   "metadata": {},
   "source": [
    "## 5.2. Répartition mondiale de l'utilisation des céréales <a class=\"anchor\" id=\"section_5.2.\"></a>"
   ]
  },
  {
   "cell_type": "code",
   "execution_count": 72,
   "id": "f801444c",
   "metadata": {},
   "outputs": [
    {
     "name": "stdout",
     "output_type": "stream",
     "text": [
      "36.29 % des céréales sont utilisées pour l'alimentation animale.\n"
     ]
    }
   ],
   "source": [
    "# Calcul de la part des céréales destinées à l'alimentation animale :\n",
    "part_animale = round((utilisation_animale / cereales_tot) * 100,2)\n",
    "print(part_animale, \"% des céréales sont utilisées pour l'alimentation animale.\")"
   ]
  },
  {
   "cell_type": "code",
   "execution_count": 73,
   "id": "b4d1dec8",
   "metadata": {},
   "outputs": [
    {
     "name": "stdout",
     "output_type": "stream",
     "text": [
      "42.75 % des céréales sont utilisées pour l'alimentation humaine.\n"
     ]
    }
   ],
   "source": [
    "# Calcul de la part des céréales destinées à l'alimentation humaine :\n",
    "part_humaine = round((utilisation_humaine / cereales_tot) * 100,2)\n",
    "print(part_humaine, \"% des céréales sont utilisées pour l'alimentation humaine.\")"
   ]
  },
  {
   "cell_type": "code",
   "execution_count": 74,
   "id": "f2ef4210",
   "metadata": {},
   "outputs": [
    {
     "name": "stdout",
     "output_type": "stream",
     "text": [
      "4.45 % des céréales sont perdues.\n"
     ]
    }
   ],
   "source": [
    "# Calcul de la part des céréales perdues :\n",
    "perte_cereales = round((perte_mondiale_cereales / cereales_tot) * 100,2)\n",
    "print(perte_cereales, \"% des céréales sont perdues.\")"
   ]
  },
  {
   "cell_type": "code",
   "execution_count": 98,
   "id": "722f5ced",
   "metadata": {},
   "outputs": [
    {
     "data": {
      "image/png": "[encoded data removed]",
      "text/plain": [
       "<Figure size 1000x600 with 1 Axes>"
      ]
     },
     "metadata": {},
     "output_type": "display_data"
    }
   ],
   "source": [
    "# Diagramme circulaire montrant la répartition mondiale de l'utilisation des céréales :\n",
    "repartition = [\"Alimentation animale\", part_animale], [\"Perte\", perte_cereales], [\"Alimentation humaine\", part_humaine], [\"Autres\", round((100 - part_animale - part_humaine - perte_cereales),2)]\n",
    "dfrep = pd.DataFrame(repartition,columns=[\"Nom\",\"Part\"])\n",
    "plt.figure(figsize=(10,6))\n",
    "plt.pie(x=dfrep[\"Part\"], labels=dfrep[\"Nom\"], autopct=\"%.f%%\")\n",
    "plt.title(\"Répartition de l'utilisation des céréales\", fontsize = 12, fontweight=\"bold\")\n",
    "plt.show()"
   ]
  },
  {
   "cell_type": "markdown",
   "id": "bfc136f6",
   "metadata": {},
   "source": [
    "## 5.3. Quelques chiffres intéressants sur les céréales <a class=\"anchor\" id=\"section_5.3.\"></a>"
   ]
  },
  {
   "cell_type": "code",
   "execution_count": 76,
   "id": "970ded9b",
   "metadata": {},
   "outputs": [
    {
     "data": {
      "text/html": [
       "<div>\n",
       "<style scoped>\n",
       "    .dataframe tbody tr th:only-of-type {\n",
       "        vertical-align: middle;\n",
       "    }\n",
       "\n",
       "    .dataframe tbody tr th {\n",
       "        vertical-align: top;\n",
       "    }\n",
       "\n",
       "    .dataframe thead th {\n",
       "        text-align: right;\n",
       "    }\n",
       "</style>\n",
       "<table border=\"1\" class=\"dataframe\">\n",
       "  <thead>\n",
       "    <tr style=\"text-align: right;\">\n",
       "      <th></th>\n",
       "      <th>Zone</th>\n",
       "      <th>Production</th>\n",
       "      <th>Part de la production mondiale</th>\n",
       "    </tr>\n",
       "  </thead>\n",
       "  <tbody>\n",
       "    <tr>\n",
       "      <th>0</th>\n",
       "      <td>Chine, continentale</td>\n",
       "      <td>485073.0</td>\n",
       "      <td>19.22</td>\n",
       "    </tr>\n",
       "    <tr>\n",
       "      <th>1</th>\n",
       "      <td>États-Unis d'Amérique</td>\n",
       "      <td>433686.0</td>\n",
       "      <td>17.19</td>\n",
       "    </tr>\n",
       "    <tr>\n",
       "      <th>2</th>\n",
       "      <td>Inde</td>\n",
       "      <td>240926.0</td>\n",
       "      <td>9.55</td>\n",
       "    </tr>\n",
       "    <tr>\n",
       "      <th>3</th>\n",
       "      <td>Brésil</td>\n",
       "      <td>97157.0</td>\n",
       "      <td>3.85</td>\n",
       "    </tr>\n",
       "    <tr>\n",
       "      <th>4</th>\n",
       "      <td>Fédération de Russie</td>\n",
       "      <td>90073.0</td>\n",
       "      <td>3.57</td>\n",
       "    </tr>\n",
       "    <tr>\n",
       "      <th>5</th>\n",
       "      <td>France</td>\n",
       "      <td>67469.0</td>\n",
       "      <td>2.67</td>\n",
       "    </tr>\n",
       "    <tr>\n",
       "      <th>6</th>\n",
       "      <td>Canada</td>\n",
       "      <td>66406.0</td>\n",
       "      <td>2.63</td>\n",
       "    </tr>\n",
       "    <tr>\n",
       "      <th>7</th>\n",
       "      <td>Indonésie</td>\n",
       "      <td>66056.0</td>\n",
       "      <td>2.62</td>\n",
       "    </tr>\n",
       "    <tr>\n",
       "      <th>8</th>\n",
       "      <td>Ukraine</td>\n",
       "      <td>62638.0</td>\n",
       "      <td>2.48</td>\n",
       "    </tr>\n",
       "    <tr>\n",
       "      <th>9</th>\n",
       "      <td>Argentine</td>\n",
       "      <td>51398.0</td>\n",
       "      <td>2.04</td>\n",
       "    </tr>\n",
       "  </tbody>\n",
       "</table>\n",
       "</div>"
      ],
      "text/plain": [
       "                    Zone  Production  Part de la production mondiale\n",
       "0    Chine, continentale    485073.0                           19.22\n",
       "1  États-Unis d'Amérique    433686.0                           17.19\n",
       "2                   Inde    240926.0                            9.55\n",
       "3                 Brésil     97157.0                            3.85\n",
       "4   Fédération de Russie     90073.0                            3.57\n",
       "5                 France     67469.0                            2.67\n",
       "6                 Canada     66406.0                            2.63\n",
       "7              Indonésie     66056.0                            2.62\n",
       "8                Ukraine     62638.0                            2.48\n",
       "9              Argentine     51398.0                            2.04"
      ]
     },
     "execution_count": 76,
     "metadata": {},
     "output_type": "execute_result"
    }
   ],
   "source": [
    "# Classement des 10 plus gros producteurs de céréales avec ajout de la \"Part de la production mondiale\" :\n",
    "top_10_prod = df_cereales.groupby(\"Zone\").sum().sort_values(\"Production\", ascending=False)\n",
    "top_10_prod[\"Part de la production mondiale\"] = round((top_10_prod[\"Production\"] / prod_mondiale_cereales)*100,2)\n",
    "top_10_prod[[\"Production\",\"Part de la production mondiale\"]].reset_index().head(10)"
   ]
  },
  {
   "cell_type": "code",
   "execution_count": 77,
   "id": "24d40864",
   "metadata": {},
   "outputs": [
    {
     "data": {
      "text/html": [
       "<div>\n",
       "<style scoped>\n",
       "    .dataframe tbody tr th:only-of-type {\n",
       "        vertical-align: middle;\n",
       "    }\n",
       "\n",
       "    .dataframe tbody tr th {\n",
       "        vertical-align: top;\n",
       "    }\n",
       "\n",
       "    .dataframe thead th {\n",
       "        text-align: right;\n",
       "    }\n",
       "</style>\n",
       "<table border=\"1\" class=\"dataframe\">\n",
       "  <thead>\n",
       "    <tr style=\"text-align: right;\">\n",
       "      <th></th>\n",
       "      <th>Zone</th>\n",
       "      <th>Exportations - Quantité</th>\n",
       "      <th>Part des exportations mondiales</th>\n",
       "    </tr>\n",
       "  </thead>\n",
       "  <tbody>\n",
       "    <tr>\n",
       "      <th>0</th>\n",
       "      <td>États-Unis d'Amérique</td>\n",
       "      <td>66302.0</td>\n",
       "      <td>15.59</td>\n",
       "    </tr>\n",
       "    <tr>\n",
       "      <th>1</th>\n",
       "      <td>France</td>\n",
       "      <td>36893.0</td>\n",
       "      <td>8.67</td>\n",
       "    </tr>\n",
       "    <tr>\n",
       "      <th>2</th>\n",
       "      <td>Argentine</td>\n",
       "      <td>29821.0</td>\n",
       "      <td>7.01</td>\n",
       "    </tr>\n",
       "    <tr>\n",
       "      <th>3</th>\n",
       "      <td>Brésil</td>\n",
       "      <td>28922.0</td>\n",
       "      <td>6.80</td>\n",
       "    </tr>\n",
       "    <tr>\n",
       "      <th>4</th>\n",
       "      <td>Ukraine</td>\n",
       "      <td>27789.0</td>\n",
       "      <td>6.53</td>\n",
       "    </tr>\n",
       "    <tr>\n",
       "      <th>5</th>\n",
       "      <td>Canada</td>\n",
       "      <td>27245.0</td>\n",
       "      <td>6.41</td>\n",
       "    </tr>\n",
       "    <tr>\n",
       "      <th>6</th>\n",
       "      <td>Australie</td>\n",
       "      <td>25951.0</td>\n",
       "      <td>6.10</td>\n",
       "    </tr>\n",
       "    <tr>\n",
       "      <th>7</th>\n",
       "      <td>Inde</td>\n",
       "      <td>24546.0</td>\n",
       "      <td>5.77</td>\n",
       "    </tr>\n",
       "    <tr>\n",
       "      <th>8</th>\n",
       "      <td>Fédération de Russie</td>\n",
       "      <td>19557.0</td>\n",
       "      <td>4.60</td>\n",
       "    </tr>\n",
       "    <tr>\n",
       "      <th>9</th>\n",
       "      <td>Allemagne</td>\n",
       "      <td>16721.0</td>\n",
       "      <td>3.93</td>\n",
       "    </tr>\n",
       "  </tbody>\n",
       "</table>\n",
       "</div>"
      ],
      "text/plain": [
       "                    Zone  Exportations - Quantité  \\\n",
       "0  États-Unis d'Amérique                  66302.0   \n",
       "1                 France                  36893.0   \n",
       "2              Argentine                  29821.0   \n",
       "3                 Brésil                  28922.0   \n",
       "4                Ukraine                  27789.0   \n",
       "5                 Canada                  27245.0   \n",
       "6              Australie                  25951.0   \n",
       "7                   Inde                  24546.0   \n",
       "8   Fédération de Russie                  19557.0   \n",
       "9              Allemagne                  16721.0   \n",
       "\n",
       "   Part des exportations mondiales  \n",
       "0                            15.59  \n",
       "1                             8.67  \n",
       "2                             7.01  \n",
       "3                             6.80  \n",
       "4                             6.53  \n",
       "5                             6.41  \n",
       "6                             6.10  \n",
       "7                             5.77  \n",
       "8                             4.60  \n",
       "9                             3.93  "
      ]
     },
     "execution_count": 77,
     "metadata": {},
     "output_type": "execute_result"
    }
   ],
   "source": [
    "# Classement des 10 plus gros exportateurs de céréales :\n",
    "top_10_expor = df_cereales.groupby(\"Zone\").sum().sort_values(\"Exportations - Quantité\", ascending=False)\n",
    "top_10_expor[\"Part des exportations mondiales\"] = round((top_10_prod[\"Exportations - Quantité\"] / expor_mondiale_cereales)*100,2)\n",
    "top_10_expor[[\"Exportations - Quantité\",\"Part des exportations mondiales\"]].reset_index().head(10)"
   ]
  },
  {
   "cell_type": "code",
   "execution_count": 78,
   "id": "83c86843",
   "metadata": {},
   "outputs": [
    {
     "data": {
      "text/html": [
       "<div>\n",
       "<style scoped>\n",
       "    .dataframe tbody tr th:only-of-type {\n",
       "        vertical-align: middle;\n",
       "    }\n",
       "\n",
       "    .dataframe tbody tr th {\n",
       "        vertical-align: top;\n",
       "    }\n",
       "\n",
       "    .dataframe thead th {\n",
       "        text-align: right;\n",
       "    }\n",
       "</style>\n",
       "<table border=\"1\" class=\"dataframe\">\n",
       "  <thead>\n",
       "    <tr style=\"text-align: right;\">\n",
       "      <th></th>\n",
       "      <th>Zone</th>\n",
       "      <th>Importations - Quantité</th>\n",
       "      <th>Part des importations mondiales</th>\n",
       "    </tr>\n",
       "  </thead>\n",
       "  <tbody>\n",
       "    <tr>\n",
       "      <th>0</th>\n",
       "      <td>Japon</td>\n",
       "      <td>25502.0</td>\n",
       "      <td>6.38</td>\n",
       "    </tr>\n",
       "    <tr>\n",
       "      <th>1</th>\n",
       "      <td>Arabie saoudite</td>\n",
       "      <td>16490.0</td>\n",
       "      <td>4.12</td>\n",
       "    </tr>\n",
       "    <tr>\n",
       "      <th>2</th>\n",
       "      <td>Égypte</td>\n",
       "      <td>16265.0</td>\n",
       "      <td>4.07</td>\n",
       "    </tr>\n",
       "    <tr>\n",
       "      <th>3</th>\n",
       "      <td>Chine, continentale</td>\n",
       "      <td>14786.0</td>\n",
       "      <td>3.70</td>\n",
       "    </tr>\n",
       "    <tr>\n",
       "      <th>4</th>\n",
       "      <td>République de Corée</td>\n",
       "      <td>14562.0</td>\n",
       "      <td>3.64</td>\n",
       "    </tr>\n",
       "    <tr>\n",
       "      <th>5</th>\n",
       "      <td>Mexique</td>\n",
       "      <td>14473.0</td>\n",
       "      <td>3.62</td>\n",
       "    </tr>\n",
       "    <tr>\n",
       "      <th>6</th>\n",
       "      <td>États-Unis d'Amérique</td>\n",
       "      <td>13477.0</td>\n",
       "      <td>3.37</td>\n",
       "    </tr>\n",
       "    <tr>\n",
       "      <th>7</th>\n",
       "      <td>Pays-Bas</td>\n",
       "      <td>12179.0</td>\n",
       "      <td>3.04</td>\n",
       "    </tr>\n",
       "    <tr>\n",
       "      <th>8</th>\n",
       "      <td>Italie</td>\n",
       "      <td>11651.0</td>\n",
       "      <td>2.91</td>\n",
       "    </tr>\n",
       "    <tr>\n",
       "      <th>9</th>\n",
       "      <td>Iran (République islamique d')</td>\n",
       "      <td>11479.0</td>\n",
       "      <td>2.87</td>\n",
       "    </tr>\n",
       "  </tbody>\n",
       "</table>\n",
       "</div>"
      ],
      "text/plain": [
       "                             Zone  Importations - Quantité  \\\n",
       "0                           Japon                  25502.0   \n",
       "1                 Arabie saoudite                  16490.0   \n",
       "2                          Égypte                  16265.0   \n",
       "3             Chine, continentale                  14786.0   \n",
       "4             République de Corée                  14562.0   \n",
       "5                         Mexique                  14473.0   \n",
       "6           États-Unis d'Amérique                  13477.0   \n",
       "7                        Pays-Bas                  12179.0   \n",
       "8                          Italie                  11651.0   \n",
       "9  Iran (République islamique d')                  11479.0   \n",
       "\n",
       "   Part des importations mondiales  \n",
       "0                             6.38  \n",
       "1                             4.12  \n",
       "2                             4.07  \n",
       "3                             3.70  \n",
       "4                             3.64  \n",
       "5                             3.62  \n",
       "6                             3.37  \n",
       "7                             3.04  \n",
       "8                             2.91  \n",
       "9                             2.87  "
      ]
     },
     "execution_count": 78,
     "metadata": {},
     "output_type": "execute_result"
    }
   ],
   "source": [
    "# Classement des 10 plus gros importateurs de céréales :\n",
    "top_10_impor = df_cereales.groupby(\"Zone\").sum().sort_values(\"Importations - Quantité\", ascending=False)\n",
    "top_10_impor[\"Part des importations mondiales\"] = round((top_10_prod[\"Importations - Quantité\"] / impor_mondiale_cereales)*100,2)\n",
    "top_10_impor[[\"Importations - Quantité\",\"Part des importations mondiales\"]].reset_index().head(10)"
   ]
  },
  {
   "cell_type": "code",
   "execution_count": 79,
   "id": "3b6dc5d0",
   "metadata": {},
   "outputs": [
    {
     "data": {
      "text/html": [
       "<div>\n",
       "<style scoped>\n",
       "    .dataframe tbody tr th:only-of-type {\n",
       "        vertical-align: middle;\n",
       "    }\n",
       "\n",
       "    .dataframe tbody tr th {\n",
       "        vertical-align: top;\n",
       "    }\n",
       "\n",
       "    .dataframe thead th {\n",
       "        text-align: right;\n",
       "    }\n",
       "</style>\n",
       "<table border=\"1\" class=\"dataframe\">\n",
       "  <thead>\n",
       "    <tr style=\"text-align: right;\">\n",
       "      <th></th>\n",
       "      <th>Zone</th>\n",
       "      <th>Pertes</th>\n",
       "      <th>% des pertes totales</th>\n",
       "    </tr>\n",
       "  </thead>\n",
       "  <tbody>\n",
       "    <tr>\n",
       "      <th>0</th>\n",
       "      <td>Chine, continentale</td>\n",
       "      <td>20199.0</td>\n",
       "      <td>18.86</td>\n",
       "    </tr>\n",
       "    <tr>\n",
       "      <th>1</th>\n",
       "      <td>Inde</td>\n",
       "      <td>12059.0</td>\n",
       "      <td>11.26</td>\n",
       "    </tr>\n",
       "    <tr>\n",
       "      <th>2</th>\n",
       "      <td>Brésil</td>\n",
       "      <td>9775.0</td>\n",
       "      <td>9.13</td>\n",
       "    </tr>\n",
       "    <tr>\n",
       "      <th>3</th>\n",
       "      <td>Indonésie</td>\n",
       "      <td>5077.0</td>\n",
       "      <td>4.74</td>\n",
       "    </tr>\n",
       "    <tr>\n",
       "      <th>4</th>\n",
       "      <td>Turquie</td>\n",
       "      <td>3829.0</td>\n",
       "      <td>3.57</td>\n",
       "    </tr>\n",
       "    <tr>\n",
       "      <th>5</th>\n",
       "      <td>Égypte</td>\n",
       "      <td>3710.0</td>\n",
       "      <td>3.46</td>\n",
       "    </tr>\n",
       "    <tr>\n",
       "      <th>6</th>\n",
       "      <td>Mexique</td>\n",
       "      <td>3286.0</td>\n",
       "      <td>3.07</td>\n",
       "    </tr>\n",
       "    <tr>\n",
       "      <th>7</th>\n",
       "      <td>Viet Nam</td>\n",
       "      <td>3000.0</td>\n",
       "      <td>2.80</td>\n",
       "    </tr>\n",
       "    <tr>\n",
       "      <th>8</th>\n",
       "      <td>Nigéria</td>\n",
       "      <td>2550.0</td>\n",
       "      <td>2.38</td>\n",
       "    </tr>\n",
       "    <tr>\n",
       "      <th>9</th>\n",
       "      <td>Bangladesh</td>\n",
       "      <td>2036.0</td>\n",
       "      <td>1.90</td>\n",
       "    </tr>\n",
       "  </tbody>\n",
       "</table>\n",
       "</div>"
      ],
      "text/plain": [
       "                  Zone   Pertes  % des pertes totales\n",
       "0  Chine, continentale  20199.0                 18.86\n",
       "1                 Inde  12059.0                 11.26\n",
       "2               Brésil   9775.0                  9.13\n",
       "3            Indonésie   5077.0                  4.74\n",
       "4              Turquie   3829.0                  3.57\n",
       "5               Égypte   3710.0                  3.46\n",
       "6              Mexique   3286.0                  3.07\n",
       "7             Viet Nam   3000.0                  2.80\n",
       "8              Nigéria   2550.0                  2.38\n",
       "9           Bangladesh   2036.0                  1.90"
      ]
     },
     "execution_count": 79,
     "metadata": {},
     "output_type": "execute_result"
    }
   ],
   "source": [
    "# Classement des 10 pays ou il y a le plus de pertes :\n",
    "top_10_pertes = df_cereales.groupby(\"Zone\").sum().sort_values(\"Pertes\", ascending=False)\n",
    "top_10_pertes[\"% des pertes totales\"] = round((top_10_prod[\"Pertes\"] / perte_mondiale_cereales)*100,2)\n",
    "top_10_pertes[[\"Pertes\",\"% des pertes totales\"]].reset_index().head(10)"
   ]
  },
  {
   "cell_type": "code",
   "execution_count": 80,
   "id": "8f6e18b0",
   "metadata": {},
   "outputs": [
    {
     "data": {
      "text/html": [
       "<div>\n",
       "<style scoped>\n",
       "    .dataframe tbody tr th:only-of-type {\n",
       "        vertical-align: middle;\n",
       "    }\n",
       "\n",
       "    .dataframe tbody tr th {\n",
       "        vertical-align: top;\n",
       "    }\n",
       "\n",
       "    .dataframe thead th {\n",
       "        text-align: right;\n",
       "    }\n",
       "</style>\n",
       "<table border=\"1\" class=\"dataframe\">\n",
       "  <thead>\n",
       "    <tr style=\"text-align: right;\">\n",
       "      <th></th>\n",
       "      <th>Produit</th>\n",
       "      <th>Aliments pour animaux</th>\n",
       "      <th>Autres Utilisations</th>\n",
       "      <th>Disponibilité alimentaire (Kcal/personne/jour)</th>\n",
       "      <th>Disponibilité alimentaire en quantité (kg/personne/an)</th>\n",
       "      <th>Disponibilité de matière grasse en quantité (g/personne/jour)</th>\n",
       "      <th>Disponibilité de protéines en quantité (g/personne/jour)</th>\n",
       "      <th>Disponibilité intérieure</th>\n",
       "      <th>Exportations - Quantité</th>\n",
       "      <th>Importations - Quantité</th>\n",
       "      <th>Nourriture</th>\n",
       "      <th>Pertes</th>\n",
       "      <th>Production</th>\n",
       "      <th>Semences</th>\n",
       "      <th>Traitement</th>\n",
       "      <th>Variation de stock</th>\n",
       "      <th>Nourriture+Animaux</th>\n",
       "      <th>Nourriture+Animaux+Pertes</th>\n",
       "    </tr>\n",
       "  </thead>\n",
       "  <tbody>\n",
       "    <tr>\n",
       "      <th>3</th>\n",
       "      <td>Maïs</td>\n",
       "      <td>546116.0</td>\n",
       "      <td>189386.0</td>\n",
       "      <td>30903.0</td>\n",
       "      <td>3690.37</td>\n",
       "      <td>271.50</td>\n",
       "      <td>771.12</td>\n",
       "      <td>955799.0</td>\n",
       "      <td>128787.0</td>\n",
       "      <td>122691.0</td>\n",
       "      <td>125184.0</td>\n",
       "      <td>40701.0</td>\n",
       "      <td>1017029.0</td>\n",
       "      <td>6837.0</td>\n",
       "      <td>47648.0</td>\n",
       "      <td>-55136.0</td>\n",
       "      <td>671300.0</td>\n",
       "      <td>712001.0</td>\n",
       "    </tr>\n",
       "    <tr>\n",
       "      <th>1</th>\n",
       "      <td>Blé</td>\n",
       "      <td>129668.0</td>\n",
       "      <td>22424.0</td>\n",
       "      <td>96132.0</td>\n",
       "      <td>12339.51</td>\n",
       "      <td>548.76</td>\n",
       "      <td>2809.21</td>\n",
       "      <td>679498.0</td>\n",
       "      <td>198380.0</td>\n",
       "      <td>185377.0</td>\n",
       "      <td>457824.0</td>\n",
       "      <td>27530.0</td>\n",
       "      <td>708443.0</td>\n",
       "      <td>34283.0</td>\n",
       "      <td>7877.0</td>\n",
       "      <td>-15948.0</td>\n",
       "      <td>587492.0</td>\n",
       "      <td>615022.0</td>\n",
       "    </tr>\n",
       "    <tr>\n",
       "      <th>6</th>\n",
       "      <td>Riz (Eq Blanchi)</td>\n",
       "      <td>33594.0</td>\n",
       "      <td>18464.0</td>\n",
       "      <td>53024.0</td>\n",
       "      <td>5384.46</td>\n",
       "      <td>123.95</td>\n",
       "      <td>1027.25</td>\n",
       "      <td>475656.0</td>\n",
       "      <td>41445.0</td>\n",
       "      <td>37618.0</td>\n",
       "      <td>377286.0</td>\n",
       "      <td>27378.0</td>\n",
       "      <td>495447.0</td>\n",
       "      <td>12194.0</td>\n",
       "      <td>6740.0</td>\n",
       "      <td>-15958.0</td>\n",
       "      <td>410880.0</td>\n",
       "      <td>438258.0</td>\n",
       "    </tr>\n",
       "    <tr>\n",
       "      <th>5</th>\n",
       "      <td>Orge</td>\n",
       "      <td>92658.0</td>\n",
       "      <td>654.0</td>\n",
       "      <td>1814.0</td>\n",
       "      <td>263.60</td>\n",
       "      <td>7.35</td>\n",
       "      <td>52.28</td>\n",
       "      <td>140439.0</td>\n",
       "      <td>41585.0</td>\n",
       "      <td>38689.0</td>\n",
       "      <td>6794.0</td>\n",
       "      <td>4628.0</td>\n",
       "      <td>142462.0</td>\n",
       "      <td>8804.0</td>\n",
       "      <td>26910.0</td>\n",
       "      <td>876.0</td>\n",
       "      <td>99452.0</td>\n",
       "      <td>104080.0</td>\n",
       "    </tr>\n",
       "    <tr>\n",
       "      <th>8</th>\n",
       "      <td>Sorgho</td>\n",
       "      <td>24808.0</td>\n",
       "      <td>2049.0</td>\n",
       "      <td>4952.0</td>\n",
       "      <td>614.02</td>\n",
       "      <td>48.34</td>\n",
       "      <td>146.16</td>\n",
       "      <td>58237.0</td>\n",
       "      <td>6388.0</td>\n",
       "      <td>6418.0</td>\n",
       "      <td>24153.0</td>\n",
       "      <td>2746.0</td>\n",
       "      <td>62116.0</td>\n",
       "      <td>788.0</td>\n",
       "      <td>3695.0</td>\n",
       "      <td>-3913.0</td>\n",
       "      <td>48961.0</td>\n",
       "      <td>51707.0</td>\n",
       "    </tr>\n",
       "    <tr>\n",
       "      <th>4</th>\n",
       "      <td>Millet</td>\n",
       "      <td>3306.0</td>\n",
       "      <td>196.0</td>\n",
       "      <td>3966.0</td>\n",
       "      <td>513.09</td>\n",
       "      <td>37.27</td>\n",
       "      <td>96.11</td>\n",
       "      <td>29911.0</td>\n",
       "      <td>276.0</td>\n",
       "      <td>343.0</td>\n",
       "      <td>23040.0</td>\n",
       "      <td>2276.0</td>\n",
       "      <td>28909.0</td>\n",
       "      <td>682.0</td>\n",
       "      <td>403.0</td>\n",
       "      <td>933.0</td>\n",
       "      <td>26346.0</td>\n",
       "      <td>28622.0</td>\n",
       "    </tr>\n",
       "    <tr>\n",
       "      <th>2</th>\n",
       "      <td>Céréales, Autres</td>\n",
       "      <td>19035.0</td>\n",
       "      <td>1388.0</td>\n",
       "      <td>1483.0</td>\n",
       "      <td>193.74</td>\n",
       "      <td>5.46</td>\n",
       "      <td>40.52</td>\n",
       "      <td>27485.0</td>\n",
       "      <td>2540.0</td>\n",
       "      <td>2882.0</td>\n",
       "      <td>5324.0</td>\n",
       "      <td>785.0</td>\n",
       "      <td>28412.0</td>\n",
       "      <td>1203.0</td>\n",
       "      <td>160.0</td>\n",
       "      <td>-1267.0</td>\n",
       "      <td>24359.0</td>\n",
       "      <td>25144.0</td>\n",
       "    </tr>\n",
       "    <tr>\n",
       "      <th>0</th>\n",
       "      <td>Avoine</td>\n",
       "      <td>16251.0</td>\n",
       "      <td>206.0</td>\n",
       "      <td>880.0</td>\n",
       "      <td>151.43</td>\n",
       "      <td>15.29</td>\n",
       "      <td>35.70</td>\n",
       "      <td>23407.0</td>\n",
       "      <td>3531.0</td>\n",
       "      <td>3708.0</td>\n",
       "      <td>3903.0</td>\n",
       "      <td>514.0</td>\n",
       "      <td>23816.0</td>\n",
       "      <td>2485.0</td>\n",
       "      <td>36.0</td>\n",
       "      <td>-577.0</td>\n",
       "      <td>20154.0</td>\n",
       "      <td>20668.0</td>\n",
       "    </tr>\n",
       "    <tr>\n",
       "      <th>7</th>\n",
       "      <td>Seigle</td>\n",
       "      <td>8099.0</td>\n",
       "      <td>20.0</td>\n",
       "      <td>1967.0</td>\n",
       "      <td>263.36</td>\n",
       "      <td>8.62</td>\n",
       "      <td>51.56</td>\n",
       "      <td>16567.0</td>\n",
       "      <td>2372.0</td>\n",
       "      <td>2251.0</td>\n",
       "      <td>5502.0</td>\n",
       "      <td>562.0</td>\n",
       "      <td>16711.0</td>\n",
       "      <td>1262.0</td>\n",
       "      <td>1120.0</td>\n",
       "      <td>-25.0</td>\n",
       "      <td>13601.0</td>\n",
       "      <td>14163.0</td>\n",
       "    </tr>\n",
       "  </tbody>\n",
       "</table>\n",
       "</div>"
      ],
      "text/plain": [
       "            Produit  Aliments pour animaux  Autres Utilisations  \\\n",
       "3              Maïs               546116.0             189386.0   \n",
       "1               Blé               129668.0              22424.0   \n",
       "6  Riz (Eq Blanchi)                33594.0              18464.0   \n",
       "5              Orge                92658.0                654.0   \n",
       "8            Sorgho                24808.0               2049.0   \n",
       "4            Millet                 3306.0                196.0   \n",
       "2  Céréales, Autres                19035.0               1388.0   \n",
       "0            Avoine                16251.0                206.0   \n",
       "7            Seigle                 8099.0                 20.0   \n",
       "\n",
       "   Disponibilité alimentaire (Kcal/personne/jour)  \\\n",
       "3                                         30903.0   \n",
       "1                                         96132.0   \n",
       "6                                         53024.0   \n",
       "5                                          1814.0   \n",
       "8                                          4952.0   \n",
       "4                                          3966.0   \n",
       "2                                          1483.0   \n",
       "0                                           880.0   \n",
       "7                                          1967.0   \n",
       "\n",
       "   Disponibilité alimentaire en quantité (kg/personne/an)  \\\n",
       "3                                            3690.37        \n",
       "1                                           12339.51        \n",
       "6                                            5384.46        \n",
       "5                                             263.60        \n",
       "8                                             614.02        \n",
       "4                                             513.09        \n",
       "2                                             193.74        \n",
       "0                                             151.43        \n",
       "7                                             263.36        \n",
       "\n",
       "   Disponibilité de matière grasse en quantité (g/personne/jour)  \\\n",
       "3                                             271.50               \n",
       "1                                             548.76               \n",
       "6                                             123.95               \n",
       "5                                               7.35               \n",
       "8                                              48.34               \n",
       "4                                              37.27               \n",
       "2                                               5.46               \n",
       "0                                              15.29               \n",
       "7                                               8.62               \n",
       "\n",
       "   Disponibilité de protéines en quantité (g/personne/jour)  \\\n",
       "3                                             771.12          \n",
       "1                                            2809.21          \n",
       "6                                            1027.25          \n",
       "5                                              52.28          \n",
       "8                                             146.16          \n",
       "4                                              96.11          \n",
       "2                                              40.52          \n",
       "0                                              35.70          \n",
       "7                                              51.56          \n",
       "\n",
       "   Disponibilité intérieure  Exportations - Quantité  Importations - Quantité  \\\n",
       "3                  955799.0                 128787.0                 122691.0   \n",
       "1                  679498.0                 198380.0                 185377.0   \n",
       "6                  475656.0                  41445.0                  37618.0   \n",
       "5                  140439.0                  41585.0                  38689.0   \n",
       "8                   58237.0                   6388.0                   6418.0   \n",
       "4                   29911.0                    276.0                    343.0   \n",
       "2                   27485.0                   2540.0                   2882.0   \n",
       "0                   23407.0                   3531.0                   3708.0   \n",
       "7                   16567.0                   2372.0                   2251.0   \n",
       "\n",
       "   Nourriture   Pertes  Production  Semences  Traitement  Variation de stock  \\\n",
       "3    125184.0  40701.0   1017029.0    6837.0     47648.0            -55136.0   \n",
       "1    457824.0  27530.0    708443.0   34283.0      7877.0            -15948.0   \n",
       "6    377286.0  27378.0    495447.0   12194.0      6740.0            -15958.0   \n",
       "5      6794.0   4628.0    142462.0    8804.0     26910.0               876.0   \n",
       "8     24153.0   2746.0     62116.0     788.0      3695.0             -3913.0   \n",
       "4     23040.0   2276.0     28909.0     682.0       403.0               933.0   \n",
       "2      5324.0    785.0     28412.0    1203.0       160.0             -1267.0   \n",
       "0      3903.0    514.0     23816.0    2485.0        36.0              -577.0   \n",
       "7      5502.0    562.0     16711.0    1262.0      1120.0               -25.0   \n",
       "\n",
       "   Nourriture+Animaux  Nourriture+Animaux+Pertes  \n",
       "3            671300.0                   712001.0  \n",
       "1            587492.0                   615022.0  \n",
       "6            410880.0                   438258.0  \n",
       "5             99452.0                   104080.0  \n",
       "8             48961.0                    51707.0  \n",
       "4             26346.0                    28622.0  \n",
       "2             24359.0                    25144.0  \n",
       "0             20154.0                    20668.0  \n",
       "7             13601.0                    14163.0  "
      ]
     },
     "execution_count": 80,
     "metadata": {},
     "output_type": "execute_result"
    }
   ],
   "source": [
    "# Classement des céréales par quantité produite :\n",
    "clas = df_cereales.groupby(\"Produit\", as_index=False).sum().sort_values(\"Production\", ascending=False)\n",
    "clas[\"Nourriture+Animaux\"] = round((clas[\"Nourriture\"] + clas[\"Aliments pour animaux\"]),)\n",
    "clas[\"Nourriture+Animaux+Pertes\"] = round((clas[\"Nourriture\"] + clas[\"Aliments pour animaux\"] + clas[\"Pertes\"]),)\n",
    "clas"
   ]
  },
  {
   "cell_type": "code",
   "execution_count": 99,
   "id": "39c087ef",
   "metadata": {},
   "outputs": [
    {
     "data": {
      "image/png": "[encoded data removed]",
      "text/plain": [
       "<Figure size 1200x600 with 1 Axes>"
      ]
     },
     "metadata": {},
     "output_type": "display_data"
    }
   ],
   "source": [
    "# Diagramme à bâtons du classement de la production en faisant apparaitre l'utilisation des céréales :\n",
    "plt.figure(figsize=(12,6))\n",
    "sns.barplot(y=clas[\"Produit\"], x=clas[\"Production\"], color=\"gray\", label=\"Autres utilisations\")\n",
    "sns.barplot(y=clas[\"Produit\"], x=clas[\"Nourriture+Animaux+Pertes\"], color=\"yellow\", label=\"Pertes\")\n",
    "sns.barplot(y=clas[\"Produit\"], x=clas[\"Nourriture+Animaux\"], color=\"green\", label=\"Animaux\")\n",
    "sns.barplot(y=clas[\"Produit\"], x=clas[\"Nourriture\"], color=\"blue\", label=\"Nourriture\")\n",
    "plt.title(\"Classement des céréales par rapport à leur production mondiale\", fontsize = 12, fontweight=\"bold\")\n",
    "plt.xlabel(\"Production mondiale (en milliards de tonnes)\")\n",
    "plt.ylabel(\"\")\n",
    "plt.legend()\n",
    "plt.show()"
   ]
  },
  {
   "cell_type": "markdown",
   "id": "d5a38984",
   "metadata": {},
   "source": [
    "## 5.4. Utilisation du Manioc en Thaïlande <a class=\"anchor\" id=\"section_5.4.\"></a>"
   ]
  },
  {
   "cell_type": "code",
   "execution_count": 82,
   "id": "bda11b20",
   "metadata": {},
   "outputs": [
    {
     "data": {
      "text/html": [
       "<div>\n",
       "<style scoped>\n",
       "    .dataframe tbody tr th:only-of-type {\n",
       "        vertical-align: middle;\n",
       "    }\n",
       "\n",
       "    .dataframe tbody tr th {\n",
       "        vertical-align: top;\n",
       "    }\n",
       "\n",
       "    .dataframe thead th {\n",
       "        text-align: right;\n",
       "    }\n",
       "</style>\n",
       "<table border=\"1\" class=\"dataframe\">\n",
       "  <thead>\n",
       "    <tr style=\"text-align: right;\">\n",
       "      <th></th>\n",
       "      <th>Zone</th>\n",
       "      <th>Produit</th>\n",
       "      <th>Origine</th>\n",
       "      <th>Aliments pour animaux</th>\n",
       "      <th>Autres Utilisations</th>\n",
       "      <th>Disponibilité alimentaire (Kcal/personne/jour)</th>\n",
       "      <th>Disponibilité alimentaire en quantité (kg/personne/an)</th>\n",
       "      <th>Disponibilité de matière grasse en quantité (g/personne/jour)</th>\n",
       "      <th>Disponibilité de protéines en quantité (g/personne/jour)</th>\n",
       "      <th>Disponibilité intérieure</th>\n",
       "      <th>Exportations - Quantité</th>\n",
       "      <th>Importations - Quantité</th>\n",
       "      <th>Nourriture</th>\n",
       "      <th>Pertes</th>\n",
       "      <th>Production</th>\n",
       "      <th>Semences</th>\n",
       "      <th>Traitement</th>\n",
       "      <th>Variation de stock</th>\n",
       "    </tr>\n",
       "  </thead>\n",
       "  <tbody>\n",
       "    <tr>\n",
       "      <th>13809</th>\n",
       "      <td>Thaïlande</td>\n",
       "      <td>Manioc</td>\n",
       "      <td>vegetale</td>\n",
       "      <td>1800.0</td>\n",
       "      <td>2081.0</td>\n",
       "      <td>40.0</td>\n",
       "      <td>13.0</td>\n",
       "      <td>0.05</td>\n",
       "      <td>0.14</td>\n",
       "      <td>6264.0</td>\n",
       "      <td>25214.0</td>\n",
       "      <td>1250.0</td>\n",
       "      <td>871.0</td>\n",
       "      <td>1511.0</td>\n",
       "      <td>30228.0</td>\n",
       "      <td>0.0</td>\n",
       "      <td>0.0</td>\n",
       "      <td>0.0</td>\n",
       "    </tr>\n",
       "  </tbody>\n",
       "</table>\n",
       "</div>"
      ],
      "text/plain": [
       "            Zone Produit   Origine  Aliments pour animaux  \\\n",
       "13809  Thaïlande  Manioc  vegetale                 1800.0   \n",
       "\n",
       "       Autres Utilisations  Disponibilité alimentaire (Kcal/personne/jour)  \\\n",
       "13809               2081.0                                            40.0   \n",
       "\n",
       "       Disponibilité alimentaire en quantité (kg/personne/an)  \\\n",
       "13809                                               13.0        \n",
       "\n",
       "       Disponibilité de matière grasse en quantité (g/personne/jour)  \\\n",
       "13809                                               0.05               \n",
       "\n",
       "       Disponibilité de protéines en quantité (g/personne/jour)  \\\n",
       "13809                                               0.14          \n",
       "\n",
       "       Disponibilité intérieure  Exportations - Quantité  \\\n",
       "13809                    6264.0                  25214.0   \n",
       "\n",
       "       Importations - Quantité  Nourriture  Pertes  Production  Semences  \\\n",
       "13809                   1250.0       871.0  1511.0     30228.0       0.0   \n",
       "\n",
       "       Traitement  Variation de stock  \n",
       "13809         0.0                 0.0  "
      ]
     },
     "execution_count": 82,
     "metadata": {},
     "output_type": "execute_result"
    }
   ],
   "source": [
    "# On reprend le df dispo_alim pour regarder le Manioc en Thaïlande :\n",
    "manioc_thailande = df_dispo_alim.loc[(df_dispo_alim[\"Produit\"] == \"Manioc\") & (df_dispo_alim[\"Zone\"] == \"Thaïlande\")]\n",
    "manioc_thailande"
   ]
  },
  {
   "cell_type": "code",
   "execution_count": 83,
   "id": "db25b69e",
   "metadata": {},
   "outputs": [],
   "source": [
    "export_manioc_thailande = manioc_thailande[\"Exportations - Quantité\"]\n",
    "prod_manioc_thailande = manioc_thailande[\"Production\"]"
   ]
  },
  {
   "cell_type": "code",
   "execution_count": 101,
   "id": "5d438c3e",
   "metadata": {},
   "outputs": [
    {
     "name": "stdout",
     "output_type": "stream",
     "text": [
      "La Thaïlande exporte 83.41 % de sa production de manioc.\n"
     ]
    }
   ],
   "source": [
    "# Calcul de la proportion de Manioc exportée sur la production totale :\n",
    "part_export_manioc_thailande = round((float)(export_manioc_thailande / prod_manioc_thailande)*100,2)\n",
    "print(\"La Thaïlande exporte\", part_export_manioc_thailande, \"% de sa production de manioc.\")"
   ]
  },
  {
   "cell_type": "code",
   "execution_count": 100,
   "id": "67241653",
   "metadata": {},
   "outputs": [
    {
     "name": "stdout",
     "output_type": "stream",
     "text": [
      "Seulement 2.88 % de sa production de manioc sert à l'alimentation de la population locale.\n"
     ]
    }
   ],
   "source": [
    "# Calcul de la proportion de Manioc qui sert à l'alimentation de la population locale :\n",
    "part_alim_manioc_thai = round((float)(manioc_thailande[\"Nourriture\"] / manioc_thailande[\"Production\"])*100,2)\n",
    "print(\"Seulement\", part_alim_manioc_thai, \"% de sa production de manioc sert à l'alimentation de la population locale.\")"
   ]
  },
  {
   "cell_type": "code",
   "execution_count": 86,
   "id": "7f6c18a6",
   "metadata": {},
   "outputs": [
    {
     "name": "stdout",
     "output_type": "stream",
     "text": [
      "Sur 69209810 d'habitants, la Thaïlande en compte 6200000 en sous nutrition, soit 8.96 % de sa population totale.\n"
     ]
    }
   ],
   "source": [
    "# Proportion de personnes en sous nutrition en Thaïlande :\n",
    "thai = df_sous_nut.loc[(df_sous_nut[\"Zone\"] == \"Thaïlande\") & (df_sous_nut[\"Année\"] == 2017)]\n",
    "df_thai_2017 = pd.merge(df_pop.loc[df_pop[\"Année\"] == 2017, [\"Zone\",\"Population\"]], thai, on=\"Zone\")\n",
    "population_thai = round((float)(df_thai_2017[\"Population\"]))\n",
    "population_sous_nut_thai = round((float)(df_thai_2017[\"Population en sous nutrition\"]))\n",
    "part_sous_nut_thai = round((float)(df_thai_2017[\"Population en sous nutrition\"] / df_thai_2017[\"Population\"])*100,2)\n",
    "print(\"Sur\", population_thai, \"d'habitants, la Thaïlande en compte\", population_sous_nut_thai, \"en sous nutrition, soit\", part_sous_nut_thai, \"% de sa population totale.\")"
   ]
  },
  {
   "cell_type": "code",
   "execution_count": 87,
   "id": "afbe1e3b",
   "metadata": {},
   "outputs": [
    {
     "name": "stdout",
     "output_type": "stream",
     "text": [
      "Si l'exportation de Manioc thaïlandais servait à nourrir la population, on pourrait nourrir 45765137 personnes (sur une base de 1590 kcal pour le Manioc), cela représente 66.13 % de la population thaïlandaise.\n"
     ]
    }
   ],
   "source": [
    "# Part de la population Thaïlandaise que l'on pourrait nourrir (Valeur énergétique du Manioc : 1590 kcal) :\n",
    "export_manioc_thailande_kg = export_manioc_thailande * 1000000\n",
    "kcal_manioc_export = ((export_manioc_thailande_kg * 1590) / 365)\n",
    "nb_pers_alim = round((float)(kcal_manioc_export / 2400))\n",
    "part_pop_thailande = round(((float)(nb_pers_alim / population_thai) * 100),2)\n",
    "print(\"Si l'exportation de Manioc thaïlandais servait à nourrir la population, on pourrait nourrir\", nb_pers_alim, \"personnes (sur une base de 1590 kcal pour le Manioc), cela représente\", part_pop_thailande, \"% de la population thaïlandaise.\")"
   ]
  }
 ],
 "metadata": {
  "kernelspec": {
   "display_name": "Python 3 (ipykernel)",
   "language": "python",
   "name": "python3"
  },
  "language_info": {
   "codemirror_mode": {
    "name": "ipython",
    "version": 3
   },
   "file_extension": ".py",
   "mimetype": "text/x-python",
   "name": "python",
   "nbconvert_exporter": "python",
   "pygments_lexer": "ipython3",
   "version": "3.9.13"
  }
 },
 "nbformat": 4,
 "nbformat_minor": 5
}
